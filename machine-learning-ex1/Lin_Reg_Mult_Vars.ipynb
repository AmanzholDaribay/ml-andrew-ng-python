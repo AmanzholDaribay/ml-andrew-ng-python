{
 "cells": [
  {
   "cell_type": "markdown",
   "metadata": {},
   "source": [
    "# Linear Regression with multiple variables"
   ]
  },
  {
   "cell_type": "code",
   "execution_count": 1,
   "metadata": {},
   "outputs": [],
   "source": [
    "#plot gradient descent and cost function"
   ]
  },
  {
   "cell_type": "markdown",
   "metadata": {},
   "source": [
    "# 1. Loading data"
   ]
  },
  {
   "cell_type": "code",
   "execution_count": 2,
   "metadata": {},
   "outputs": [],
   "source": [
    "#Loading data\n",
    "with open('ex1data2.txt', 'r') as f:\n",
    "\tlines = f.readlines()"
   ]
  },
  {
   "cell_type": "code",
   "execution_count": 3,
   "metadata": {},
   "outputs": [],
   "source": [
    "y = []\n",
    "raw_x = []\n",
    "x1 = []\n",
    "x2 = []\n",
    "for i in range(len(lines)):\n",
    "    line = lines[i].split(\",\")\n",
    "    x1.append(float(line[0]))\n",
    "    x2.append(float(line[1]))\n",
    "    y.append(float(line[2][:-1]))"
   ]
  },
  {
   "cell_type": "code",
   "execution_count": 4,
   "metadata": {},
   "outputs": [],
   "source": [
    "raw_x.append(x1)\n",
    "raw_x.append(x2)"
   ]
  },
  {
   "cell_type": "markdown",
   "metadata": {},
   "source": [
    "# 2. Visualization"
   ]
  },
  {
   "cell_type": "code",
   "execution_count": 5,
   "metadata": {},
   "outputs": [
    {
     "data": {
      "text/plain": [
       "Text(0.5,1,'x1 vs. y')"
      ]
     },
     "execution_count": 5,
     "metadata": {},
     "output_type": "execute_result"
    }
   ],
   "source": [
    "#Visualization\n",
    "import matplotlib.pyplot as plt\n",
    "plt.plot(raw_x[0], y, 'bo')\n",
    "plt.title('x1 vs. y')"
   ]
  },
  {
   "cell_type": "code",
   "execution_count": 6,
   "metadata": {},
   "outputs": [
    {
     "data": {
      "text/plain": [
       "Text(0.5,1,'x2 vs. y')"
      ]
     },
     "execution_count": 6,
     "metadata": {},
     "output_type": "execute_result"
    },
    {
     "data": {
      "image/png": "[encoded data removed]",
      "text/plain": [
       "<Figure size 432x288 with 1 Axes>"
      ]
     },
     "metadata": {},
     "output_type": "display_data"
    }
   ],
   "source": [
    "plt.plot(raw_x[1], y, 'bo')\n",
    "plt.title('x2 vs. y')"
   ]
  },
  {
   "cell_type": "markdown",
   "metadata": {},
   "source": [
    "# 3. Preprocessing of data"
   ]
  },
  {
   "cell_type": "markdown",
   "metadata": {},
   "source": [
    "# 3.1 Normalization\n",
    "Normalization helps gradient descent converge quickly.\n",
    "Source to read about standard deviation: http://vortex.ihrc.fiu.edu/MET4570/members/Lectures/Lect05/m10divideby_nminus1.pdf"
   ]
  },
  {
   "cell_type": "code",
   "execution_count": 7,
   "metadata": {},
   "outputs": [],
   "source": [
    "#My standard deviation function through variance\n",
    "def myStd(array, mean):\n",
    "    m = len(array)\n",
    "    sum = 0\n",
    "    for i in range(m):\n",
    "        sum += (array[i] - mean) ** 2\n",
    "    var = sum/(m - 1)\n",
    "    std = var ** (1/2)\n",
    "    return std "
   ]
  },
  {
   "cell_type": "code",
   "execution_count": 8,
   "metadata": {},
   "outputs": [],
   "source": [
    "#My mean function\n",
    "def myMean(array):\n",
    "    m = len(array)\n",
    "    sum = 0\n",
    "    for i in range(m):\n",
    "        sum += array[i]\n",
    "    return sum/m"
   ]
  },
  {
   "cell_type": "code",
   "execution_count": 9,
   "metadata": {},
   "outputs": [],
   "source": [
    "#My normalization function\n",
    "def myNorm(array, mean, std):\n",
    "    m = len(array)\n",
    "    x_norm = []\n",
    "    for i in range(m):\n",
    "        value = (array[i] - mean)/std\n",
    "        x_norm.append(value)\n",
    "    return x_norm"
   ]
  },
  {
   "cell_type": "code",
   "execution_count": 10,
   "metadata": {},
   "outputs": [],
   "source": [
    "myMean1 = myMean(raw_x[0])\n",
    "myMean2 = myMean(raw_x[1])"
   ]
  },
  {
   "cell_type": "code",
   "execution_count": 11,
   "metadata": {},
   "outputs": [],
   "source": [
    "myStd1 = myStd(raw_x[0], myMean1)\n",
    "myStd2 = myStd(raw_x[1], myMean2)"
   ]
  },
  {
   "cell_type": "code",
   "execution_count": 12,
   "metadata": {},
   "outputs": [],
   "source": [
    "x1_norm = myNorm(raw_x[0], myMean1, myStd1)\n",
    "x2_norm = myNorm(raw_x[1], myMean2, myStd2)"
   ]
  },
  {
   "cell_type": "code",
   "execution_count": 13,
   "metadata": {},
   "outputs": [],
   "source": [
    "raw_x_norm = []\n",
    "raw_x_norm.append(x1_norm)\n",
    "raw_x_norm.append(x2_norm)"
   ]
  },
  {
   "cell_type": "markdown",
   "metadata": {},
   "source": [
    "# 3.2 Augmentation"
   ]
  },
  {
   "cell_type": "code",
   "execution_count": 14,
   "metadata": {},
   "outputs": [],
   "source": [
    "#My augmentation function (adding 1 to x)\n",
    "def myAug(raw_x):\n",
    "    x_aug = []\n",
    "    m = len(raw_x[0]) #number of samples\n",
    "    n = len(raw_x) #number of features\n",
    "    x_ones = []\n",
    "    for i in range(m):\n",
    "        x_ones.append(1)\n",
    "    x_aug.append(x_ones)\n",
    "    for j in range(n):\n",
    "        x_aug.append(raw_x[j])\n",
    "    return x_aug"
   ]
  },
  {
   "cell_type": "code",
   "execution_count": 15,
   "metadata": {},
   "outputs": [],
   "source": [
    "#Augmented x with 1 as first row\n",
    "x_aug = myAug(raw_x_norm)"
   ]
  },
  {
   "cell_type": "markdown",
   "metadata": {},
   "source": [
    "# 3.3 Initialization of theta"
   ]
  },
  {
   "cell_type": "code",
   "execution_count": 16,
   "metadata": {},
   "outputs": [],
   "source": [
    "#My function for initialization of theta with zeros\n",
    "def myTheta(x_aug):\n",
    "    myTheta = []\n",
    "    n = len(x_aug)\n",
    "    for i in range(n):\n",
    "        myTheta.append(0)\n",
    "    return myTheta"
   ]
  },
  {
   "cell_type": "code",
   "execution_count": 17,
   "metadata": {},
   "outputs": [
    {
     "data": {
      "text/plain": [
       "[[1,\n",
       "  1,\n",
       "  1,\n",
       "  1,\n",
       "  1,\n",
       "  1,\n",
       "  1,\n",
       "  1,\n",
       "  1,\n",
       "  1,\n",
       "  1,\n",
       "  1,\n",
       "  1,\n",
       "  1,\n",
       "  1,\n",
       "  1,\n",
       "  1,\n",
       "  1,\n",
       "  1,\n",
       "  1,\n",
       "  1,\n",
       "  1,\n",
       "  1,\n",
       "  1,\n",
       "  1,\n",
       "  1,\n",
       "  1,\n",
       "  1,\n",
       "  1,\n",
       "  1,\n",
       "  1,\n",
       "  1,\n",
       "  1,\n",
       "  1,\n",
       "  1,\n",
       "  1,\n",
       "  1,\n",
       "  1,\n",
       "  1,\n",
       "  1,\n",
       "  1,\n",
       "  1,\n",
       "  1,\n",
       "  1,\n",
       "  1,\n",
       "  1,\n",
       "  1],\n",
       " [0.13000986907454054,\n",
       "  -0.5041898382231769,\n",
       "  0.502476363836692,\n",
       "  -0.7357230646969468,\n",
       "  1.2574760153815938,\n",
       "  -0.019731728481864972,\n",
       "  -0.5872397998931161,\n",
       "  -0.7218814044186236,\n",
       "  -0.7810230437896409,\n",
       "  -0.6375731099961096,\n",
       "  -0.0763567023477326,\n",
       "  -0.0008567371932424295,\n",
       "  -0.13927333997647443,\n",
       "  3.117291823687202,\n",
       "  -0.9219563120780225,\n",
       "  0.3766430885792084,\n",
       "  -0.856523008944131,\n",
       "  -0.9622229601604173,\n",
       "  0.7654679091248329,\n",
       "  1.2964843307114138,\n",
       "  -0.2940482685431793,\n",
       "  -0.1417900054816241,\n",
       "  -0.4991565072128776,\n",
       "  -0.048673381791086205,\n",
       "  2.377392165173198,\n",
       "  -1.133356214510595,\n",
       "  -0.6828730890888036,\n",
       "  0.6610262906611214,\n",
       "  0.2508098133217248,\n",
       "  0.8007012261969283,\n",
       "  -0.20344831035779107,\n",
       "  -1.2591894897680787,\n",
       "  0.04947657290975102,\n",
       "  1.4298676024843464,\n",
       "  -0.23868162742988647,\n",
       "  -0.7092980768928753,\n",
       "  -0.9584479619026928,\n",
       "  0.16524318614663594,\n",
       "  2.78635030976002,\n",
       "  0.20299316872388104,\n",
       "  -0.4236565420583874,\n",
       "  0.2986264579195686,\n",
       "  0.7126179335166897,\n",
       "  -1.0075229392531113,\n",
       "  -1.4454227371491544,\n",
       "  -0.1870899845743182,\n",
       "  -1.003747940995387],\n",
       " [-0.2236751871685913,\n",
       "  -0.2236751871685913,\n",
       "  -0.2236751871685913,\n",
       "  -1.5377669117840669,\n",
       "  1.0904165374468842,\n",
       "  1.0904165374468842,\n",
       "  -0.2236751871685913,\n",
       "  -0.2236751871685913,\n",
       "  -0.2236751871685913,\n",
       "  -0.2236751871685913,\n",
       "  1.0904165374468842,\n",
       "  -0.2236751871685913,\n",
       "  -0.2236751871685913,\n",
       "  2.4045082620623597,\n",
       "  -0.2236751871685913,\n",
       "  1.0904165374468842,\n",
       "  -1.5377669117840669,\n",
       "  -0.2236751871685913,\n",
       "  1.0904165374468842,\n",
       "  1.0904165374468842,\n",
       "  -0.2236751871685913,\n",
       "  -1.5377669117840669,\n",
       "  -0.2236751871685913,\n",
       "  1.0904165374468842,\n",
       "  -0.2236751871685913,\n",
       "  -0.2236751871685913,\n",
       "  -0.2236751871685913,\n",
       "  -0.2236751871685913,\n",
       "  -0.2236751871685913,\n",
       "  -0.2236751871685913,\n",
       "  -1.5377669117840669,\n",
       "  -2.8518586363995424,\n",
       "  1.0904165374468842,\n",
       "  -0.2236751871685913,\n",
       "  1.0904165374468842,\n",
       "  -0.2236751871685913,\n",
       "  -0.2236751871685913,\n",
       "  1.0904165374468842,\n",
       "  1.0904165374468842,\n",
       "  1.0904165374468842,\n",
       "  -1.5377669117840669,\n",
       "  -0.2236751871685913,\n",
       "  1.0904165374468842,\n",
       "  -0.2236751871685913,\n",
       "  -1.5377669117840669,\n",
       "  1.0904165374468842,\n",
       "  -0.2236751871685913]]"
      ]
     },
     "execution_count": 17,
     "metadata": {},
     "output_type": "execute_result"
    }
   ],
   "source": [
    "x_aug"
   ]
  },
  {
   "cell_type": "code",
   "execution_count": 18,
   "metadata": {},
   "outputs": [
    {
     "data": {
      "text/plain": [
       "[0, 0, 0]"
      ]
     },
     "execution_count": 18,
     "metadata": {},
     "output_type": "execute_result"
    }
   ],
   "source": [
    "theta = myTheta(x_aug)\n",
    "theta"
   ]
  },
  {
   "cell_type": "markdown",
   "metadata": {},
   "source": [
    "# 4. Cost Function"
   ]
  },
  {
   "cell_type": "code",
   "execution_count": 19,
   "metadata": {},
   "outputs": [],
   "source": [
    "#My dot prodoct function for vectors\n",
    "#The first vector should be transpose i.e. theta = [0,0,0]\n",
    "#While, the second vector should be x = [[1],[2104],[3]]\n",
    "def myDot(theta, x_sample):\n",
    "    sum = 0\n",
    "    for i in range(len(theta)):\n",
    "        sum += (theta[i] * x_sample[i][0])\n",
    "    return sum"
   ]
  },
  {
   "cell_type": "code",
   "execution_count": 20,
   "metadata": {},
   "outputs": [],
   "source": [
    "#My Cost Function for linear regression\n",
    "def myCost(x, y, theta):\n",
    "    m = len(y) #number of samples\n",
    "    n = len(theta) #number of features\n",
    "    sum = 0\n",
    "    for i in range(m):\n",
    "        h = 0\n",
    "        for j in range(n):\n",
    "            h += theta[j] * x[j][i] \n",
    "        sum += (h - y[i]) ** 2\n",
    "    sum = sum / (2 * m)\n",
    "    return sum"
   ]
  },
  {
   "cell_type": "code",
   "execution_count": 21,
   "metadata": {},
   "outputs": [
    {
     "data": {
      "text/plain": [
       "65591548106.45744"
      ]
     },
     "execution_count": 21,
     "metadata": {},
     "output_type": "execute_result"
    }
   ],
   "source": [
    "myCost(x_aug, y, theta)"
   ]
  },
  {
   "cell_type": "markdown",
   "metadata": {},
   "source": [
    "# 5. Gradient Descent"
   ]
  },
  {
   "cell_type": "code",
   "execution_count": 22,
   "metadata": {},
   "outputs": [],
   "source": [
    "theta = [0, 0, 0]"
   ]
  },
  {
   "cell_type": "code",
   "execution_count": 23,
   "metadata": {},
   "outputs": [],
   "source": [
    "#My Gradient Descent function\n",
    "def gradDes(x, y , theta, alpha):\n",
    "    m = len(y)\n",
    "    n = len(theta)\n",
    "    #new_theta = [0,0,0]\n",
    "    \n",
    "    sum0 = 0\n",
    "    sum1 = 0\n",
    "    sum2 = 0\n",
    "    for i in range(m):\n",
    "        h = theta[0] * x[0][i] + theta[1] * x[1][i] + theta[2] * x[2][i]\n",
    "        sum0 += (h - y[i]) * x[0][i]\n",
    "        sum1 += (h - y[i]) * x[1][i]\n",
    "        sum2 += (h - y[i]) * x[2][i]\n",
    "    temp0 = theta[0] - alpha * (1/m) * sum0\n",
    "    temp1 = theta[1] - alpha * (1/m) * sum1\n",
    "    temp2 = theta[2] - alpha * (1/m) * sum2\n",
    "    \n",
    "    theta[0] = temp0\n",
    "    theta[1] = temp1\n",
    "    theta[2] = temp2\n",
    "    return theta"
   ]
  },
  {
   "cell_type": "code",
   "execution_count": 24,
   "metadata": {},
   "outputs": [],
   "source": [
    "for j in range(50):\n",
    "    theta = gradDes(x_aug, y, theta, 0.3)"
   ]
  },
  {
   "cell_type": "code",
   "execution_count": 25,
   "metadata": {},
   "outputs": [
    {
     "data": {
      "text/plain": [
       "[340412.6534522654, 110572.961930871, -6591.385922849891]"
      ]
     },
     "execution_count": 25,
     "metadata": {},
     "output_type": "execute_result"
    }
   ],
   "source": [
    "theta"
   ]
  },
  {
   "cell_type": "code",
   "execution_count": 26,
   "metadata": {},
   "outputs": [
    {
     "data": {
      "text/plain": [
       "2043281503.795087"
      ]
     },
     "execution_count": 26,
     "metadata": {},
     "output_type": "execute_result"
    }
   ],
   "source": [
    "myCost(x_aug, y, theta)"
   ]
  },
  {
   "cell_type": "markdown",
   "metadata": {},
   "source": [
    "# 5.1 The results "
   ]
  },
  {
   "cell_type": "markdown",
   "metadata": {},
   "source": [
    "#### for j in range(50):\n",
    "    theta = gradDes(x_aug, y, theta, 0.3)\n",
    "    \n",
    "#### theta = [340412.6534522654, 110572.961930871, -6591.385922849891]\n",
    "#### myCost(x_aug, y, theta) = 2043281503.795087"
   ]
  },
  {
   "cell_type": "markdown",
   "metadata": {},
   "source": [
    "# 6. Testing"
   ]
  },
  {
   "cell_type": "code",
   "execution_count": 48,
   "metadata": {},
   "outputs": [],
   "source": [
    "theta = [0,0,0]"
   ]
  },
  {
   "cell_type": "code",
   "execution_count": 49,
   "metadata": {},
   "outputs": [],
   "source": [
    "def arrayOfCosts(iterations, theta, alpha, x):\n",
    "    theta = [0,0,0]\n",
    "    epochs = 0\n",
    "    costPerIter = []\n",
    "    arrayOfepochs = []\n",
    "    \n",
    "    while epochs <= iterations:\n",
    "        arrayOfepochs.append(epochs)\n",
    "        \n",
    "        for j in range(epochs):\n",
    "            theta = gradDes(x, y, theta, alpha)\n",
    "        cost = myCost(x, y, theta)\n",
    "        \n",
    "        theta = [0,0,0] #for any other iteration it should start initialized, the graph of iterations over trained\n",
    "        #one is almost similar, but it is not true\n",
    "        costPerIter.append(cost)\n",
    "        epochs +=1\n",
    "    return costPerIter, arrayOfepochs"
   ]
  },
  {
   "cell_type": "markdown",
   "metadata": {},
   "source": [
    "Try to change the values of the learning rate (alpha), it will affect the graph of iterations vs. cost value"
   ]
  },
  {
   "cell_type": "code",
   "execution_count": 50,
   "metadata": {},
   "outputs": [],
   "source": [
    "costs = arrayOfCosts(50, theta, 0.3, x_aug)"
   ]
  },
  {
   "cell_type": "code",
   "execution_count": 51,
   "metadata": {},
   "outputs": [
    {
     "data": {
      "text/plain": [
       "([65591548106.45744,\n",
       "  32769251589.54679,\n",
       "  17162371138.600994,\n",
       "  9610212673.430882,\n",
       "  5903790708.923928,\n",
       "  4060267654.650727,\n",
       "  3129447146.6880794,\n",
       "  2650518225.9363256,\n",
       "  2397952577.212392,\n",
       "  2260458549.1141615,\n",
       "  2182619809.255922,\n",
       "  2136527325.8193688,\n",
       "  2107908134.5360575,\n",
       "  2089308029.5591478,\n",
       "  2076723134.9966106,\n",
       "  2067924519.0177345,\n",
       "  2061617330.513367,\n",
       "  2057013351.5682864,\n",
       "  2053609759.0722368,\n",
       "  2051071751.0708978,\n",
       "  2049168226.1967423,\n",
       "  2047735102.1875796,\n",
       "  2046653425.1510618,\n",
       "  2045835672.8210433,\n",
       "  2045216790.7554276,\n",
       "  2044748092.0833366,\n",
       "  2044392973.223324,\n",
       "  2044123832.4776125,\n",
       "  2043919815.4197152,\n",
       "  2043765145.4172893,\n",
       "  2043647877.3685925,\n",
       "  2043558962.3183067,\n",
       "  2043491542.8908665,\n",
       "  2043440421.3400977,\n",
       "  2043401657.311019,\n",
       "  2043372263.3824353,\n",
       "  2043349974.4721787,\n",
       "  2043333073.112773,\n",
       "  2043320257.0250063,\n",
       "  2043310538.7322645,\n",
       "  2043303169.4547253,\n",
       "  2043297581.4067214,\n",
       "  2043293344.0451488,\n",
       "  2043290130.8948874,\n",
       "  2043287694.3937252,\n",
       "  2043285846.8179502,\n",
       "  2043284445.8186247,\n",
       "  2043283383.4539669,\n",
       "  2043282577.872781,\n",
       "  2043281967.0080872,\n",
       "  2043281503.795087],\n",
       " [0,\n",
       "  1,\n",
       "  2,\n",
       "  3,\n",
       "  4,\n",
       "  5,\n",
       "  6,\n",
       "  7,\n",
       "  8,\n",
       "  9,\n",
       "  10,\n",
       "  11,\n",
       "  12,\n",
       "  13,\n",
       "  14,\n",
       "  15,\n",
       "  16,\n",
       "  17,\n",
       "  18,\n",
       "  19,\n",
       "  20,\n",
       "  21,\n",
       "  22,\n",
       "  23,\n",
       "  24,\n",
       "  25,\n",
       "  26,\n",
       "  27,\n",
       "  28,\n",
       "  29,\n",
       "  30,\n",
       "  31,\n",
       "  32,\n",
       "  33,\n",
       "  34,\n",
       "  35,\n",
       "  36,\n",
       "  37,\n",
       "  38,\n",
       "  39,\n",
       "  40,\n",
       "  41,\n",
       "  42,\n",
       "  43,\n",
       "  44,\n",
       "  45,\n",
       "  46,\n",
       "  47,\n",
       "  48,\n",
       "  49,\n",
       "  50])"
      ]
     },
     "execution_count": 51,
     "metadata": {},
     "output_type": "execute_result"
    }
   ],
   "source": [
    "costs"
   ]
  },
  {
   "cell_type": "code",
   "execution_count": 52,
   "metadata": {},
   "outputs": [
    {
     "data": {
      "text/plain": [
       "Text(0.5,1,'Iterations vs Cost Value')"
      ]
     },
     "execution_count": 52,
     "metadata": {},
     "output_type": "execute_result"
    },
    {
     "data": {
      "image/png": "[encoded data removed]",
      "text/plain": [
       "<Figure size 432x288 with 1 Axes>"
      ]
     },
     "metadata": {},
     "output_type": "display_data"
    }
   ],
   "source": [
    "plt.plot(costs[1], costs[0], 'g')\n",
    "plt.title('Iterations vs Cost Value')"
   ]
  },
  {
   "cell_type": "markdown",
   "metadata": {},
   "source": [
    "# 6.1 Testing without normalization\n",
    "Since it has been said that normalization makes gradient descent to converge quickly.\n",
    "Thus, without it gradient descent should be slow. Let's see:"
   ]
  },
  {
   "cell_type": "code",
   "execution_count": 32,
   "metadata": {},
   "outputs": [
    {
     "data": {
      "text/plain": [
       "[[2104.0,\n",
       "  1600.0,\n",
       "  2400.0,\n",
       "  1416.0,\n",
       "  3000.0,\n",
       "  1985.0,\n",
       "  1534.0,\n",
       "  1427.0,\n",
       "  1380.0,\n",
       "  1494.0,\n",
       "  1940.0,\n",
       "  2000.0,\n",
       "  1890.0,\n",
       "  4478.0,\n",
       "  1268.0,\n",
       "  2300.0,\n",
       "  1320.0,\n",
       "  1236.0,\n",
       "  2609.0,\n",
       "  3031.0,\n",
       "  1767.0,\n",
       "  1888.0,\n",
       "  1604.0,\n",
       "  1962.0,\n",
       "  3890.0,\n",
       "  1100.0,\n",
       "  1458.0,\n",
       "  2526.0,\n",
       "  2200.0,\n",
       "  2637.0,\n",
       "  1839.0,\n",
       "  1000.0,\n",
       "  2040.0,\n",
       "  3137.0,\n",
       "  1811.0,\n",
       "  1437.0,\n",
       "  1239.0,\n",
       "  2132.0,\n",
       "  4215.0,\n",
       "  2162.0,\n",
       "  1664.0,\n",
       "  2238.0,\n",
       "  2567.0,\n",
       "  1200.0,\n",
       "  852.0,\n",
       "  1852.0,\n",
       "  1203.0],\n",
       " [3.0,\n",
       "  3.0,\n",
       "  3.0,\n",
       "  2.0,\n",
       "  4.0,\n",
       "  4.0,\n",
       "  3.0,\n",
       "  3.0,\n",
       "  3.0,\n",
       "  3.0,\n",
       "  4.0,\n",
       "  3.0,\n",
       "  3.0,\n",
       "  5.0,\n",
       "  3.0,\n",
       "  4.0,\n",
       "  2.0,\n",
       "  3.0,\n",
       "  4.0,\n",
       "  4.0,\n",
       "  3.0,\n",
       "  2.0,\n",
       "  3.0,\n",
       "  4.0,\n",
       "  3.0,\n",
       "  3.0,\n",
       "  3.0,\n",
       "  3.0,\n",
       "  3.0,\n",
       "  3.0,\n",
       "  2.0,\n",
       "  1.0,\n",
       "  4.0,\n",
       "  3.0,\n",
       "  4.0,\n",
       "  3.0,\n",
       "  3.0,\n",
       "  4.0,\n",
       "  4.0,\n",
       "  4.0,\n",
       "  2.0,\n",
       "  3.0,\n",
       "  4.0,\n",
       "  3.0,\n",
       "  2.0,\n",
       "  4.0,\n",
       "  3.0]]"
      ]
     },
     "execution_count": 32,
     "metadata": {},
     "output_type": "execute_result"
    }
   ],
   "source": [
    "raw_x"
   ]
  },
  {
   "cell_type": "code",
   "execution_count": 33,
   "metadata": {},
   "outputs": [
    {
     "data": {
      "text/plain": [
       "[[1,\n",
       "  1,\n",
       "  1,\n",
       "  1,\n",
       "  1,\n",
       "  1,\n",
       "  1,\n",
       "  1,\n",
       "  1,\n",
       "  1,\n",
       "  1,\n",
       "  1,\n",
       "  1,\n",
       "  1,\n",
       "  1,\n",
       "  1,\n",
       "  1,\n",
       "  1,\n",
       "  1,\n",
       "  1,\n",
       "  1,\n",
       "  1,\n",
       "  1,\n",
       "  1,\n",
       "  1,\n",
       "  1,\n",
       "  1,\n",
       "  1,\n",
       "  1,\n",
       "  1,\n",
       "  1,\n",
       "  1,\n",
       "  1,\n",
       "  1,\n",
       "  1,\n",
       "  1,\n",
       "  1,\n",
       "  1,\n",
       "  1,\n",
       "  1,\n",
       "  1,\n",
       "  1,\n",
       "  1,\n",
       "  1,\n",
       "  1,\n",
       "  1,\n",
       "  1],\n",
       " [2104.0,\n",
       "  1600.0,\n",
       "  2400.0,\n",
       "  1416.0,\n",
       "  3000.0,\n",
       "  1985.0,\n",
       "  1534.0,\n",
       "  1427.0,\n",
       "  1380.0,\n",
       "  1494.0,\n",
       "  1940.0,\n",
       "  2000.0,\n",
       "  1890.0,\n",
       "  4478.0,\n",
       "  1268.0,\n",
       "  2300.0,\n",
       "  1320.0,\n",
       "  1236.0,\n",
       "  2609.0,\n",
       "  3031.0,\n",
       "  1767.0,\n",
       "  1888.0,\n",
       "  1604.0,\n",
       "  1962.0,\n",
       "  3890.0,\n",
       "  1100.0,\n",
       "  1458.0,\n",
       "  2526.0,\n",
       "  2200.0,\n",
       "  2637.0,\n",
       "  1839.0,\n",
       "  1000.0,\n",
       "  2040.0,\n",
       "  3137.0,\n",
       "  1811.0,\n",
       "  1437.0,\n",
       "  1239.0,\n",
       "  2132.0,\n",
       "  4215.0,\n",
       "  2162.0,\n",
       "  1664.0,\n",
       "  2238.0,\n",
       "  2567.0,\n",
       "  1200.0,\n",
       "  852.0,\n",
       "  1852.0,\n",
       "  1203.0],\n",
       " [3.0,\n",
       "  3.0,\n",
       "  3.0,\n",
       "  2.0,\n",
       "  4.0,\n",
       "  4.0,\n",
       "  3.0,\n",
       "  3.0,\n",
       "  3.0,\n",
       "  3.0,\n",
       "  4.0,\n",
       "  3.0,\n",
       "  3.0,\n",
       "  5.0,\n",
       "  3.0,\n",
       "  4.0,\n",
       "  2.0,\n",
       "  3.0,\n",
       "  4.0,\n",
       "  4.0,\n",
       "  3.0,\n",
       "  2.0,\n",
       "  3.0,\n",
       "  4.0,\n",
       "  3.0,\n",
       "  3.0,\n",
       "  3.0,\n",
       "  3.0,\n",
       "  3.0,\n",
       "  3.0,\n",
       "  2.0,\n",
       "  1.0,\n",
       "  4.0,\n",
       "  3.0,\n",
       "  4.0,\n",
       "  3.0,\n",
       "  3.0,\n",
       "  4.0,\n",
       "  4.0,\n",
       "  4.0,\n",
       "  2.0,\n",
       "  3.0,\n",
       "  4.0,\n",
       "  3.0,\n",
       "  2.0,\n",
       "  4.0,\n",
       "  3.0]]"
      ]
     },
     "execution_count": 33,
     "metadata": {},
     "output_type": "execute_result"
    }
   ],
   "source": [
    "#Augmented x with 1 as first row\n",
    "x_no_norm = myAug(raw_x)\n",
    "x_no_norm"
   ]
  },
  {
   "cell_type": "code",
   "execution_count": 34,
   "metadata": {},
   "outputs": [
    {
     "ename": "OverflowError",
     "evalue": "(34, 'Numerical result out of range')",
     "output_type": "error",
     "traceback": [
      "\u001b[0;31m---------------------------------------------------------------------------\u001b[0m",
      "\u001b[0;31mOverflowError\u001b[0m                             Traceback (most recent call last)",
      "\u001b[0;32m<ipython-input-34-d74a661afef5>\u001b[0m in \u001b[0;36m<module>\u001b[0;34m()\u001b[0m\n\u001b[0;32m----> 1\u001b[0;31m \u001b[0mcosts_no_norm\u001b[0m \u001b[0;34m=\u001b[0m \u001b[0marrayOfCosts\u001b[0m\u001b[0;34m(\u001b[0m\u001b[0;36m50\u001b[0m\u001b[0;34m,\u001b[0m \u001b[0mtheta\u001b[0m\u001b[0;34m,\u001b[0m \u001b[0;36m0.1\u001b[0m\u001b[0;34m,\u001b[0m \u001b[0mx_no_norm\u001b[0m\u001b[0;34m)\u001b[0m\u001b[0;34m\u001b[0m\u001b[0m\n\u001b[0m",
      "\u001b[0;32m<ipython-input-28-7b8c1fd7ef6c>\u001b[0m in \u001b[0;36marrayOfCosts\u001b[0;34m(iterations, theta, alpha, x)\u001b[0m\n\u001b[1;32m     10\u001b[0m         \u001b[0;32mfor\u001b[0m \u001b[0mj\u001b[0m \u001b[0;32min\u001b[0m \u001b[0mrange\u001b[0m\u001b[0;34m(\u001b[0m\u001b[0mepochs\u001b[0m\u001b[0;34m)\u001b[0m\u001b[0;34m:\u001b[0m\u001b[0;34m\u001b[0m\u001b[0m\n\u001b[1;32m     11\u001b[0m             \u001b[0mtheta\u001b[0m \u001b[0;34m=\u001b[0m \u001b[0mgradDes\u001b[0m\u001b[0;34m(\u001b[0m\u001b[0mx\u001b[0m\u001b[0;34m,\u001b[0m \u001b[0my\u001b[0m\u001b[0;34m,\u001b[0m \u001b[0mtheta\u001b[0m\u001b[0;34m,\u001b[0m \u001b[0malpha\u001b[0m\u001b[0;34m)\u001b[0m\u001b[0;34m\u001b[0m\u001b[0m\n\u001b[0;32m---> 12\u001b[0;31m         \u001b[0mcost\u001b[0m \u001b[0;34m=\u001b[0m \u001b[0mmyCost\u001b[0m\u001b[0;34m(\u001b[0m\u001b[0mx\u001b[0m\u001b[0;34m,\u001b[0m \u001b[0my\u001b[0m\u001b[0;34m,\u001b[0m \u001b[0mtheta\u001b[0m\u001b[0;34m)\u001b[0m\u001b[0;34m\u001b[0m\u001b[0m\n\u001b[0m\u001b[1;32m     13\u001b[0m \u001b[0;34m\u001b[0m\u001b[0m\n\u001b[1;32m     14\u001b[0m         \u001b[0mtheta\u001b[0m \u001b[0;34m=\u001b[0m \u001b[0;34m[\u001b[0m\u001b[0;36m0\u001b[0m\u001b[0;34m,\u001b[0m\u001b[0;36m0\u001b[0m\u001b[0;34m,\u001b[0m\u001b[0;36m0\u001b[0m\u001b[0;34m]\u001b[0m \u001b[0;31m#for any other iteration it should start initialized, the graph of iterations over trained\u001b[0m\u001b[0;34m\u001b[0m\u001b[0m\n",
      "\u001b[0;32m<ipython-input-20-34b7e0ccf316>\u001b[0m in \u001b[0;36mmyCost\u001b[0;34m(x, y, theta)\u001b[0m\n\u001b[1;32m      8\u001b[0m         \u001b[0;32mfor\u001b[0m \u001b[0mj\u001b[0m \u001b[0;32min\u001b[0m \u001b[0mrange\u001b[0m\u001b[0;34m(\u001b[0m\u001b[0mn\u001b[0m\u001b[0;34m)\u001b[0m\u001b[0;34m:\u001b[0m\u001b[0;34m\u001b[0m\u001b[0m\n\u001b[1;32m      9\u001b[0m             \u001b[0mh\u001b[0m \u001b[0;34m+=\u001b[0m \u001b[0mtheta\u001b[0m\u001b[0;34m[\u001b[0m\u001b[0mj\u001b[0m\u001b[0;34m]\u001b[0m \u001b[0;34m*\u001b[0m \u001b[0mx\u001b[0m\u001b[0;34m[\u001b[0m\u001b[0mj\u001b[0m\u001b[0;34m]\u001b[0m\u001b[0;34m[\u001b[0m\u001b[0mi\u001b[0m\u001b[0;34m]\u001b[0m\u001b[0;34m\u001b[0m\u001b[0m\n\u001b[0;32m---> 10\u001b[0;31m         \u001b[0msum\u001b[0m \u001b[0;34m+=\u001b[0m \u001b[0;34m(\u001b[0m\u001b[0mh\u001b[0m \u001b[0;34m-\u001b[0m \u001b[0my\u001b[0m\u001b[0;34m[\u001b[0m\u001b[0mi\u001b[0m\u001b[0;34m]\u001b[0m\u001b[0;34m)\u001b[0m \u001b[0;34m**\u001b[0m \u001b[0;36m2\u001b[0m\u001b[0;34m\u001b[0m\u001b[0m\n\u001b[0m\u001b[1;32m     11\u001b[0m     \u001b[0msum\u001b[0m \u001b[0;34m=\u001b[0m \u001b[0msum\u001b[0m \u001b[0;34m/\u001b[0m \u001b[0;34m(\u001b[0m\u001b[0;36m2\u001b[0m \u001b[0;34m*\u001b[0m \u001b[0mm\u001b[0m\u001b[0;34m)\u001b[0m\u001b[0;34m\u001b[0m\u001b[0m\n\u001b[1;32m     12\u001b[0m     \u001b[0;32mreturn\u001b[0m \u001b[0msum\u001b[0m\u001b[0;34m\u001b[0m\u001b[0m\n",
      "\u001b[0;31mOverflowError\u001b[0m: (34, 'Numerical result out of range')"
     ]
    }
   ],
   "source": [
    "costs_no_norm = arrayOfCosts(50, theta, 0.1, x_no_norm)"
   ]
  },
  {
   "cell_type": "markdown",
   "metadata": {},
   "source": [
    "The reason of the error above is that wihtout normalization the calculated values are so huge that they are 'Numerical result out of range'.\n",
    "https://stackoverflow.com/questions/12666600/overflowerror-numerical-result-out-of-range-when-generating-fibonacci-numbers"
   ]
  },
  {
   "cell_type": "markdown",
   "metadata": {},
   "source": [
    "# 7. Viewing arrays with pandas"
   ]
  },
  {
   "cell_type": "code",
   "execution_count": 35,
   "metadata": {},
   "outputs": [],
   "source": [
    "import pandas as pd"
   ]
  },
  {
   "cell_type": "code",
   "execution_count": 36,
   "metadata": {},
   "outputs": [],
   "source": [
    "x_aug_df = pd.DataFrame(x_aug)"
   ]
  },
  {
   "cell_type": "code",
   "execution_count": 37,
   "metadata": {},
   "outputs": [
    {
     "data": {
      "text/html": [
       "<div>\n",
       "<style scoped>\n",
       "    .dataframe tbody tr th:only-of-type {\n",
       "        vertical-align: middle;\n",
       "    }\n",
       "\n",
       "    .dataframe tbody tr th {\n",
       "        vertical-align: top;\n",
       "    }\n",
       "\n",
       "    .dataframe thead th {\n",
       "        text-align: right;\n",
       "    }\n",
       "</style>\n",
       "<table border=\"1\" class=\"dataframe\">\n",
       "  <thead>\n",
       "    <tr style=\"text-align: right;\">\n",
       "      <th></th>\n",
       "      <th>0</th>\n",
       "      <th>1</th>\n",
       "      <th>2</th>\n",
       "      <th>3</th>\n",
       "      <th>4</th>\n",
       "      <th>5</th>\n",
       "      <th>6</th>\n",
       "      <th>7</th>\n",
       "      <th>8</th>\n",
       "      <th>9</th>\n",
       "      <th>...</th>\n",
       "      <th>37</th>\n",
       "      <th>38</th>\n",
       "      <th>39</th>\n",
       "      <th>40</th>\n",
       "      <th>41</th>\n",
       "      <th>42</th>\n",
       "      <th>43</th>\n",
       "      <th>44</th>\n",
       "      <th>45</th>\n",
       "      <th>46</th>\n",
       "    </tr>\n",
       "  </thead>\n",
       "  <tbody>\n",
       "    <tr>\n",
       "      <th>0</th>\n",
       "      <td>1.000000</td>\n",
       "      <td>1.000000</td>\n",
       "      <td>1.000000</td>\n",
       "      <td>1.000000</td>\n",
       "      <td>1.000000</td>\n",
       "      <td>1.000000</td>\n",
       "      <td>1.000000</td>\n",
       "      <td>1.000000</td>\n",
       "      <td>1.000000</td>\n",
       "      <td>1.000000</td>\n",
       "      <td>...</td>\n",
       "      <td>1.000000</td>\n",
       "      <td>1.000000</td>\n",
       "      <td>1.000000</td>\n",
       "      <td>1.000000</td>\n",
       "      <td>1.000000</td>\n",
       "      <td>1.000000</td>\n",
       "      <td>1.000000</td>\n",
       "      <td>1.000000</td>\n",
       "      <td>1.000000</td>\n",
       "      <td>1.000000</td>\n",
       "    </tr>\n",
       "    <tr>\n",
       "      <th>1</th>\n",
       "      <td>0.130010</td>\n",
       "      <td>-0.504190</td>\n",
       "      <td>0.502476</td>\n",
       "      <td>-0.735723</td>\n",
       "      <td>1.257476</td>\n",
       "      <td>-0.019732</td>\n",
       "      <td>-0.587240</td>\n",
       "      <td>-0.721881</td>\n",
       "      <td>-0.781023</td>\n",
       "      <td>-0.637573</td>\n",
       "      <td>...</td>\n",
       "      <td>0.165243</td>\n",
       "      <td>2.786350</td>\n",
       "      <td>0.202993</td>\n",
       "      <td>-0.423657</td>\n",
       "      <td>0.298626</td>\n",
       "      <td>0.712618</td>\n",
       "      <td>-1.007523</td>\n",
       "      <td>-1.445423</td>\n",
       "      <td>-0.187090</td>\n",
       "      <td>-1.003748</td>\n",
       "    </tr>\n",
       "    <tr>\n",
       "      <th>2</th>\n",
       "      <td>-0.223675</td>\n",
       "      <td>-0.223675</td>\n",
       "      <td>-0.223675</td>\n",
       "      <td>-1.537767</td>\n",
       "      <td>1.090417</td>\n",
       "      <td>1.090417</td>\n",
       "      <td>-0.223675</td>\n",
       "      <td>-0.223675</td>\n",
       "      <td>-0.223675</td>\n",
       "      <td>-0.223675</td>\n",
       "      <td>...</td>\n",
       "      <td>1.090417</td>\n",
       "      <td>1.090417</td>\n",
       "      <td>1.090417</td>\n",
       "      <td>-1.537767</td>\n",
       "      <td>-0.223675</td>\n",
       "      <td>1.090417</td>\n",
       "      <td>-0.223675</td>\n",
       "      <td>-1.537767</td>\n",
       "      <td>1.090417</td>\n",
       "      <td>-0.223675</td>\n",
       "    </tr>\n",
       "  </tbody>\n",
       "</table>\n",
       "<p>3 rows × 47 columns</p>\n",
       "</div>"
      ],
      "text/plain": [
       "         0         1         2         3         4         5         6   \\\n",
       "0  1.000000  1.000000  1.000000  1.000000  1.000000  1.000000  1.000000   \n",
       "1  0.130010 -0.504190  0.502476 -0.735723  1.257476 -0.019732 -0.587240   \n",
       "2 -0.223675 -0.223675 -0.223675 -1.537767  1.090417  1.090417 -0.223675   \n",
       "\n",
       "         7         8         9     ...           37        38        39  \\\n",
       "0  1.000000  1.000000  1.000000    ...     1.000000  1.000000  1.000000   \n",
       "1 -0.721881 -0.781023 -0.637573    ...     0.165243  2.786350  0.202993   \n",
       "2 -0.223675 -0.223675 -0.223675    ...     1.090417  1.090417  1.090417   \n",
       "\n",
       "         40        41        42        43        44        45        46  \n",
       "0  1.000000  1.000000  1.000000  1.000000  1.000000  1.000000  1.000000  \n",
       "1 -0.423657  0.298626  0.712618 -1.007523 -1.445423 -0.187090 -1.003748  \n",
       "2 -1.537767 -0.223675  1.090417 -0.223675 -1.537767  1.090417 -0.223675  \n",
       "\n",
       "[3 rows x 47 columns]"
      ]
     },
     "execution_count": 37,
     "metadata": {},
     "output_type": "execute_result"
    }
   ],
   "source": [
    "x_aug_df"
   ]
  },
  {
   "cell_type": "code",
   "execution_count": 38,
   "metadata": {},
   "outputs": [],
   "source": [
    "x_no_norm_df = pd.DataFrame(x_no_norm)"
   ]
  },
  {
   "cell_type": "code",
   "execution_count": 39,
   "metadata": {},
   "outputs": [
    {
     "data": {
      "text/html": [
       "<div>\n",
       "<style scoped>\n",
       "    .dataframe tbody tr th:only-of-type {\n",
       "        vertical-align: middle;\n",
       "    }\n",
       "\n",
       "    .dataframe tbody tr th {\n",
       "        vertical-align: top;\n",
       "    }\n",
       "\n",
       "    .dataframe thead th {\n",
       "        text-align: right;\n",
       "    }\n",
       "</style>\n",
       "<table border=\"1\" class=\"dataframe\">\n",
       "  <thead>\n",
       "    <tr style=\"text-align: right;\">\n",
       "      <th></th>\n",
       "      <th>0</th>\n",
       "      <th>1</th>\n",
       "      <th>2</th>\n",
       "      <th>3</th>\n",
       "      <th>4</th>\n",
       "      <th>5</th>\n",
       "      <th>6</th>\n",
       "      <th>7</th>\n",
       "      <th>8</th>\n",
       "      <th>9</th>\n",
       "      <th>...</th>\n",
       "      <th>37</th>\n",
       "      <th>38</th>\n",
       "      <th>39</th>\n",
       "      <th>40</th>\n",
       "      <th>41</th>\n",
       "      <th>42</th>\n",
       "      <th>43</th>\n",
       "      <th>44</th>\n",
       "      <th>45</th>\n",
       "      <th>46</th>\n",
       "    </tr>\n",
       "  </thead>\n",
       "  <tbody>\n",
       "    <tr>\n",
       "      <th>0</th>\n",
       "      <td>1.0</td>\n",
       "      <td>1.0</td>\n",
       "      <td>1.0</td>\n",
       "      <td>1.0</td>\n",
       "      <td>1.0</td>\n",
       "      <td>1.0</td>\n",
       "      <td>1.0</td>\n",
       "      <td>1.0</td>\n",
       "      <td>1.0</td>\n",
       "      <td>1.0</td>\n",
       "      <td>...</td>\n",
       "      <td>1.0</td>\n",
       "      <td>1.0</td>\n",
       "      <td>1.0</td>\n",
       "      <td>1.0</td>\n",
       "      <td>1.0</td>\n",
       "      <td>1.0</td>\n",
       "      <td>1.0</td>\n",
       "      <td>1.0</td>\n",
       "      <td>1.0</td>\n",
       "      <td>1.0</td>\n",
       "    </tr>\n",
       "    <tr>\n",
       "      <th>1</th>\n",
       "      <td>2104.0</td>\n",
       "      <td>1600.0</td>\n",
       "      <td>2400.0</td>\n",
       "      <td>1416.0</td>\n",
       "      <td>3000.0</td>\n",
       "      <td>1985.0</td>\n",
       "      <td>1534.0</td>\n",
       "      <td>1427.0</td>\n",
       "      <td>1380.0</td>\n",
       "      <td>1494.0</td>\n",
       "      <td>...</td>\n",
       "      <td>2132.0</td>\n",
       "      <td>4215.0</td>\n",
       "      <td>2162.0</td>\n",
       "      <td>1664.0</td>\n",
       "      <td>2238.0</td>\n",
       "      <td>2567.0</td>\n",
       "      <td>1200.0</td>\n",
       "      <td>852.0</td>\n",
       "      <td>1852.0</td>\n",
       "      <td>1203.0</td>\n",
       "    </tr>\n",
       "    <tr>\n",
       "      <th>2</th>\n",
       "      <td>3.0</td>\n",
       "      <td>3.0</td>\n",
       "      <td>3.0</td>\n",
       "      <td>2.0</td>\n",
       "      <td>4.0</td>\n",
       "      <td>4.0</td>\n",
       "      <td>3.0</td>\n",
       "      <td>3.0</td>\n",
       "      <td>3.0</td>\n",
       "      <td>3.0</td>\n",
       "      <td>...</td>\n",
       "      <td>4.0</td>\n",
       "      <td>4.0</td>\n",
       "      <td>4.0</td>\n",
       "      <td>2.0</td>\n",
       "      <td>3.0</td>\n",
       "      <td>4.0</td>\n",
       "      <td>3.0</td>\n",
       "      <td>2.0</td>\n",
       "      <td>4.0</td>\n",
       "      <td>3.0</td>\n",
       "    </tr>\n",
       "  </tbody>\n",
       "</table>\n",
       "<p>3 rows × 47 columns</p>\n",
       "</div>"
      ],
      "text/plain": [
       "       0       1       2       3       4       5       6       7       8   \\\n",
       "0     1.0     1.0     1.0     1.0     1.0     1.0     1.0     1.0     1.0   \n",
       "1  2104.0  1600.0  2400.0  1416.0  3000.0  1985.0  1534.0  1427.0  1380.0   \n",
       "2     3.0     3.0     3.0     2.0     4.0     4.0     3.0     3.0     3.0   \n",
       "\n",
       "       9    ...        37      38      39      40      41      42      43  \\\n",
       "0     1.0   ...       1.0     1.0     1.0     1.0     1.0     1.0     1.0   \n",
       "1  1494.0   ...    2132.0  4215.0  2162.0  1664.0  2238.0  2567.0  1200.0   \n",
       "2     3.0   ...       4.0     4.0     4.0     2.0     3.0     4.0     3.0   \n",
       "\n",
       "      44      45      46  \n",
       "0    1.0     1.0     1.0  \n",
       "1  852.0  1852.0  1203.0  \n",
       "2    2.0     4.0     3.0  \n",
       "\n",
       "[3 rows x 47 columns]"
      ]
     },
     "execution_count": 39,
     "metadata": {},
     "output_type": "execute_result"
    }
   ],
   "source": [
    "x_no_norm_df.head()"
   ]
  },
  {
   "cell_type": "markdown",
   "metadata": {},
   "source": [
    "# The End."
   ]
  }
 ],
 "metadata": {
  "kernelspec": {
   "display_name": "Python 3",
   "language": "python",
   "name": "python3"
  },
  "language_info": {
   "codemirror_mode": {
    "name": "ipython",
    "version": 3
   },
   "file_extension": ".py",
   "mimetype": "text/x-python",
   "name": "python",
   "nbconvert_exporter": "python",
   "pygments_lexer": "ipython3",
   "version": "3.6.5"
  }
 },
 "nbformat": 4,
 "nbformat_minor": 2
}
