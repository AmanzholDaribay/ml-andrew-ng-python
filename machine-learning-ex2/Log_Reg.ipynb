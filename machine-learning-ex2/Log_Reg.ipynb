{
 "cells": [
  {
   "cell_type": "markdown",
   "metadata": {},
   "source": [
    "# Agreements: \n",
    "## * capital letters for the preprocessed data"
   ]
  },
  {
   "cell_type": "markdown",
   "metadata": {},
   "source": [
    "# 1. Loading data and visualization"
   ]
  },
  {
   "cell_type": "code",
   "execution_count": 1,
   "metadata": {},
   "outputs": [],
   "source": [
    "import numpy as np"
   ]
  },
  {
   "cell_type": "code",
   "execution_count": 2,
   "metadata": {},
   "outputs": [],
   "source": [
    "data  = np.genfromtxt(\"ex2data1.txt\", delimiter = \",\")"
   ]
  },
  {
   "cell_type": "code",
   "execution_count": 3,
   "metadata": {},
   "outputs": [],
   "source": [
    "import matplotlib.pyplot as plt"
   ]
  },
  {
   "cell_type": "code",
   "execution_count": 4,
   "metadata": {},
   "outputs": [],
   "source": [
    "#Taking the data where it is 1 using numpy functions\n",
    "y_equal_1 = data[data[:,2] == 1]\n",
    "y_equal_0 = data[data[:,2] == 0]"
   ]
  },
  {
   "cell_type": "code",
   "execution_count": 8,
   "metadata": {},
   "outputs": [
    {
     "data": {
      "text/plain": [
       "<matplotlib.legend.Legend at 0x7f84df482da0>"
      ]
     },
     "execution_count": 8,
     "metadata": {},
     "output_type": "execute_result"
    },
    {
     "data": {
      "image/png": "[encoded data removed]",
      "text/plain": [
       "<Figure size 864x648 with 1 Axes>"
      ]
     },
     "metadata": {},
     "output_type": "display_data"
    }
   ],
   "source": [
    "plt.plot(y_equal_1[:,0], y_equal_1[:,1], 'rx')\n",
    "plt.plot(y_equal_0[:,0], y_equal_0[:,1], 'bo')\n",
    "plt.title(\"Scatter plot of training data\")\n",
    "plt.xlabel(\"Exam 1 score\")\n",
    "plt.ylabel(\"Exam 2 score\")\n",
    "plt.legend(('Admitted','Not admitted'))"
   ]
  },
  {
   "cell_type": "markdown",
   "metadata": {},
   "source": [
    "### Note: below is the code to change the size of the plot "
   ]
  },
  {
   "cell_type": "code",
   "execution_count": 6,
   "metadata": {},
   "outputs": [],
   "source": [
    "# Get current size\n",
    "fig_size = plt.rcParams[\"figure.figsize\"]\n",
    " \n",
    "# Prints: [8.0, 6.0]\n",
    "#print(\"Current size:\", fig_size)"
   ]
  },
  {
   "cell_type": "code",
   "execution_count": 7,
   "metadata": {},
   "outputs": [],
   "source": [
    "# Set figure width to 12 and height to 9\n",
    "fig_size[0] = 12\n",
    "fig_size[1] = 9\n",
    "plt.rcParams[\"figure.figsize\"] = fig_size"
   ]
  },
  {
   "cell_type": "markdown",
   "metadata": {},
   "source": [
    "### Rerun your plot after chaning its size"
   ]
  },
  {
   "cell_type": "markdown",
   "metadata": {},
   "source": [
    "# 2. Preprocessing"
   ]
  },
  {
   "cell_type": "code",
   "execution_count": 9,
   "metadata": {},
   "outputs": [],
   "source": [
    "x_raw = data[:,:2]"
   ]
  },
  {
   "cell_type": "code",
   "execution_count": 10,
   "metadata": {},
   "outputs": [],
   "source": [
    "#shapes\n",
    "m = x_raw.shape[0] #number of samples\n",
    "n = x_raw.shape[1] + 1 #number of features"
   ]
  },
  {
   "cell_type": "code",
   "execution_count": 11,
   "metadata": {},
   "outputs": [],
   "source": [
    "#initialization of theta\n",
    "Theta = np.array([0,0,0])"
   ]
  },
  {
   "cell_type": "code",
   "execution_count": 12,
   "metadata": {},
   "outputs": [],
   "source": [
    "Y = data[:,2]"
   ]
  },
  {
   "cell_type": "code",
   "execution_count": 13,
   "metadata": {},
   "outputs": [
    {
     "data": {
      "text/plain": [
       "(100,)"
      ]
     },
     "execution_count": 13,
     "metadata": {},
     "output_type": "execute_result"
    }
   ],
   "source": [
    "(Y.T).shape"
   ]
  },
  {
   "cell_type": "code",
   "execution_count": 14,
   "metadata": {},
   "outputs": [],
   "source": [
    "#0 for position, 1 is value, axis = 1 is every row\n",
    "X = np.insert(x_raw, 0, 1, axis = 1)"
   ]
  },
  {
   "cell_type": "markdown",
   "metadata": {},
   "source": [
    "### Note: Check for the dimensions in order to use vectorization properly"
   ]
  },
  {
   "cell_type": "code",
   "execution_count": 15,
   "metadata": {},
   "outputs": [
    {
     "data": {
      "text/plain": [
       "(3,)"
      ]
     },
     "execution_count": 15,
     "metadata": {},
     "output_type": "execute_result"
    }
   ],
   "source": [
    "Theta.shape"
   ]
  },
  {
   "cell_type": "code",
   "execution_count": 16,
   "metadata": {},
   "outputs": [
    {
     "data": {
      "text/plain": [
       "(100, 3)"
      ]
     },
     "execution_count": 16,
     "metadata": {},
     "output_type": "execute_result"
    }
   ],
   "source": [
    "X.shape"
   ]
  },
  {
   "cell_type": "markdown",
   "metadata": {},
   "source": [
    "# 3. Implementation"
   ]
  },
  {
   "cell_type": "markdown",
   "metadata": {},
   "source": [
    "    Cheat Sheet:"
   ]
  },
  {
   "cell_type": "markdown",
   "metadata": {},
   "source": [
    "<img src=\"logistic.png\">"
   ]
  },
  {
   "cell_type": "code",
   "execution_count": 17,
   "metadata": {},
   "outputs": [],
   "source": [
    "# sigmoid function that should return hypothesis array\n",
    "#def sigmoid(X,Theta):\n",
    "H = 1/(1 + np.exp(-1 * np.dot(X,Theta)))"
   ]
  },
  {
   "cell_type": "code",
   "execution_count": 18,
   "metadata": {},
   "outputs": [
    {
     "data": {
      "text/plain": [
       "(100, 3)"
      ]
     },
     "execution_count": 18,
     "metadata": {},
     "output_type": "execute_result"
    }
   ],
   "source": [
    "X.shape"
   ]
  },
  {
   "cell_type": "code",
   "execution_count": 19,
   "metadata": {},
   "outputs": [
    {
     "data": {
      "text/plain": [
       "(3,)"
      ]
     },
     "execution_count": 19,
     "metadata": {},
     "output_type": "execute_result"
    }
   ],
   "source": [
    "Theta.shape"
   ]
  },
  {
   "cell_type": "code",
   "execution_count": 20,
   "metadata": {},
   "outputs": [
    {
     "data": {
      "text/plain": [
       "(100,)"
      ]
     },
     "execution_count": 20,
     "metadata": {},
     "output_type": "execute_result"
    }
   ],
   "source": [
    "H.shape"
   ]
  },
  {
   "cell_type": "code",
   "execution_count": 21,
   "metadata": {},
   "outputs": [
    {
     "data": {
      "text/plain": [
       "array([0.5, 0.5, 0.5, 0.5, 0.5, 0.5, 0.5, 0.5, 0.5, 0.5, 0.5, 0.5, 0.5,\n",
       "       0.5, 0.5, 0.5, 0.5, 0.5, 0.5, 0.5, 0.5, 0.5, 0.5, 0.5, 0.5, 0.5,\n",
       "       0.5, 0.5, 0.5, 0.5, 0.5, 0.5, 0.5, 0.5, 0.5, 0.5, 0.5, 0.5, 0.5,\n",
       "       0.5, 0.5, 0.5, 0.5, 0.5, 0.5, 0.5, 0.5, 0.5, 0.5, 0.5, 0.5, 0.5,\n",
       "       0.5, 0.5, 0.5, 0.5, 0.5, 0.5, 0.5, 0.5, 0.5, 0.5, 0.5, 0.5, 0.5,\n",
       "       0.5, 0.5, 0.5, 0.5, 0.5, 0.5, 0.5, 0.5, 0.5, 0.5, 0.5, 0.5, 0.5,\n",
       "       0.5, 0.5, 0.5, 0.5, 0.5, 0.5, 0.5, 0.5, 0.5, 0.5, 0.5, 0.5, 0.5,\n",
       "       0.5, 0.5, 0.5, 0.5, 0.5, 0.5, 0.5, 0.5, 0.5])"
      ]
     },
     "execution_count": 21,
     "metadata": {},
     "output_type": "execute_result"
    }
   ],
   "source": [
    "H"
   ]
  },
  {
   "cell_type": "markdown",
   "metadata": {},
   "source": [
    "### Cost Function with Theta = [0,0,0]"
   ]
  },
  {
   "cell_type": "code",
   "execution_count": 22,
   "metadata": {},
   "outputs": [],
   "source": [
    "mean_x1 = np.mean(X[:,1])\n",
    "mean_x2 = np.mean(X[:,2])\n",
    "std_x1 = np.std(X[:,1])\n",
    "std_x2 = np.std(X[:,2])"
   ]
  },
  {
   "cell_type": "code",
   "execution_count": 23,
   "metadata": {},
   "outputs": [],
   "source": [
    "X_norm = X"
   ]
  },
  {
   "cell_type": "code",
   "execution_count": 24,
   "metadata": {},
   "outputs": [],
   "source": [
    "X_norm[:,1] = (X_norm[:,1] - mean_x1) / std_x1\n",
    "X_norm[:,2] = (X_norm[:,2] - mean_x2) / std_x2"
   ]
  },
  {
   "cell_type": "code",
   "execution_count": 25,
   "metadata": {},
   "outputs": [],
   "source": [
    "def cost(h, y):\n",
    "    cost = (-1/m) * (y.T @ np.log(h) + np.dot((1 - y).T, np.log(1 - h)))\n",
    "    return cost"
   ]
  },
  {
   "cell_type": "code",
   "execution_count": 26,
   "metadata": {},
   "outputs": [
    {
     "data": {
      "text/plain": [
       "0.6931471805599452"
      ]
     },
     "execution_count": 26,
     "metadata": {},
     "output_type": "execute_result"
    }
   ],
   "source": [
    "cost(H, Y)"
   ]
  },
  {
   "cell_type": "code",
   "execution_count": 27,
   "metadata": {},
   "outputs": [
    {
     "data": {
      "text/plain": [
       "(100,)"
      ]
     },
     "execution_count": 27,
     "metadata": {},
     "output_type": "execute_result"
    }
   ],
   "source": [
    "np.log(H).shape"
   ]
  },
  {
   "cell_type": "code",
   "execution_count": 28,
   "metadata": {},
   "outputs": [
    {
     "data": {
      "text/plain": [
       "array([0., 0., 0., 1., 1., 0., 1., 1., 1., 1., 0., 0., 1., 1., 0., 1., 1.,\n",
       "       0., 1., 1., 0., 1., 0., 0., 1., 1., 1., 0., 0., 0., 1., 1., 0., 1.,\n",
       "       0., 0., 0., 1., 0., 0., 1., 0., 1., 0., 0., 0., 1., 1., 1., 1., 1.,\n",
       "       1., 1., 0., 0., 0., 1., 0., 1., 1., 1., 0., 0., 0., 0., 0., 1., 0.,\n",
       "       1., 1., 0., 1., 1., 1., 1., 1., 1., 1., 0., 0., 1., 1., 1., 1., 1.,\n",
       "       1., 0., 1., 1., 0., 1., 1., 0., 1., 1., 1., 1., 1., 1., 1.])"
      ]
     },
     "execution_count": 28,
     "metadata": {},
     "output_type": "execute_result"
    }
   ],
   "source": [
    "Y"
   ]
  },
  {
   "cell_type": "code",
   "execution_count": 29,
   "metadata": {},
   "outputs": [
    {
     "data": {
      "text/plain": [
       "(100,)"
      ]
     },
     "execution_count": 29,
     "metadata": {},
     "output_type": "execute_result"
    }
   ],
   "source": [
    "Y.shape"
   ]
  },
  {
   "cell_type": "markdown",
   "metadata": {},
   "source": [
    "### Gradient Descent Implementation"
   ]
  },
  {
   "cell_type": "code",
   "execution_count": 30,
   "metadata": {},
   "outputs": [],
   "source": [
    "def mySigmoid(x, theta):\n",
    "    h = 1/(1+np.exp(-np.dot(X,theta)))\n",
    "    return h"
   ]
  },
  {
   "cell_type": "code",
   "execution_count": 31,
   "metadata": {},
   "outputs": [],
   "source": [
    "Theta = np.array([0,0,0])"
   ]
  },
  {
   "cell_type": "code",
   "execution_count": 32,
   "metadata": {},
   "outputs": [],
   "source": [
    "#%%time\n",
    "\n",
    "cost_list = [] #in order to the change in the cost after each iteration\n",
    "iterations = []\n",
    "previous_cost = 0\n",
    "\n",
    "for i in range(2000):\n",
    "    \n",
    "    Theta = Theta - (0.1/100) * (X_norm.T @ (mySigmoid(X_norm,Theta) - Y))\n",
    "    \n",
    "    H = mySigmoid(X_norm,Theta) #New Hypothesis after each iteration\n",
    "    \n",
    "    cost_val = cost(H, Y) #New Cost after each iteration\n",
    "    cost_list.append(cost_val) #Saving them\n",
    "    iterations.append(i)\n",
    "    \n",
    "    if (abs(cost_val - previous_cost) <= 0.00001):  \n",
    "        iteration_break = i\n",
    "        break\n",
    "    else:\n",
    "        previous_cost = cost_val"
   ]
  },
  {
   "cell_type": "code",
   "execution_count": 33,
   "metadata": {},
   "outputs": [
    {
     "data": {
      "text/plain": [
       "1120"
      ]
     },
     "execution_count": 33,
     "metadata": {},
     "output_type": "execute_result"
    }
   ],
   "source": [
    "iteration_break"
   ]
  },
  {
   "cell_type": "code",
   "execution_count": 34,
   "metadata": {},
   "outputs": [
    {
     "data": {
      "text/plain": [
       "array([1.31342865, 3.13670569, 2.89778383])"
      ]
     },
     "execution_count": 34,
     "metadata": {},
     "output_type": "execute_result"
    }
   ],
   "source": [
    "Theta"
   ]
  },
  {
   "cell_type": "markdown",
   "metadata": {},
   "source": [
    "# 4. Results and Discussion"
   ]
  },
  {
   "cell_type": "markdown",
   "metadata": {},
   "source": [
    "    Obtained Theta values are 1.50553399, 3.54060004, 3.28777073 after 2000 iterations and at alpha 0.1."
   ]
  },
  {
   "cell_type": "markdown",
   "metadata": {},
   "source": [
    "## 4.1 Cost and Alpha value"
   ]
  },
  {
   "cell_type": "code",
   "execution_count": 35,
   "metadata": {},
   "outputs": [
    {
     "data": {
      "text/plain": [
       "[0.6781246963007578,\n",
       " 0.66382741095537,\n",
       " 0.6502189347748325,\n",
       " 0.6372638011294858,\n",
       " 0.6249276349768507,\n",
       " 0.6131772824536355,\n",
       " 0.6019809053902057,\n",
       " 0.5913080448617392,\n",
       " 0.581129657968826,\n",
       " 0.5714181319373621,\n",
       " 0.5621472793949616,\n",
       " 0.5532923183637234,\n",
       " 0.5448298401440202,\n",
       " 0.53673776787996,\n",
       " 0.5289953082157878,\n",
       " 0.5215828980887389,\n",
       " 0.5144821483673814,\n",
       " 0.5076757857407512,\n",
       " 0.5011475939948845,\n",
       " 0.49488235557968735,\n",
       " 0.48886579416897574,\n",
       " 0.4830845187474487,\n",
       " 0.4775259696173653,\n",
       " 0.4721783666015385,\n",
       " 0.46703065962474805,\n",
       " 0.46207248177974974,\n",
       " 0.45729410492389855,\n",
       " 0.4526863978054734,\n",
       " 0.44824078668284983,\n",
       " 0.44394921837274987,\n",
       " 0.4398041256442569,\n",
       " 0.43579839486166516,\n",
       " 0.4319253357703677,\n",
       " 0.4281786533148617,\n",
       " 0.42455242137575483,\n",
       " 0.4210410583126992,\n",
       " 0.4176393042019316,\n",
       " 0.4143421996600938,\n",
       " 0.4111450661499061,\n",
       " 0.40804348766777737,\n",
       " 0.40503329371833097,\n",
       " 0.40211054348594927,\n",
       " 0.3992715111186254,\n",
       " 0.39651267204459884,\n",
       " 0.39383069024731837,\n",
       " 0.3912224064292114,\n",
       " 0.38868482699946827,\n",
       " 0.38621511382556856,\n",
       " 0.38381057469256236,\n",
       " 0.38146865441815986,\n",
       " 0.37918692657548386,\n",
       " 0.3769630857788983,\n",
       " 0.3747949404916478,\n",
       " 0.3726804063171396,\n",
       " 0.37061749973858005,\n",
       " 0.3686043322743433,\n",
       " 0.366639105018932,\n",
       " 0.3647201035416775,\n",
       " 0.36284569311744536,\n",
       " 0.36101431426557284,\n",
       " 0.35922447857507045,\n",
       " 0.3574747647957875,\n",
       " 0.3557638151767805,\n",
       " 0.3540903320345429,\n",
       " 0.35245307453505986,\n",
       " 0.35085085567486063,\n",
       " 0.34928253944734766,\n",
       " 0.3477470381817092,\n",
       " 0.3462433100426638,\n",
       " 0.3447703566801537,\n",
       " 0.3433272210189084,\n",
       " 0.34191298517853613,\n",
       " 0.3405267685154839,\n",
       " 0.3391677257788343,\n",
       " 0.3378350453724873,\n",
       " 0.33652794771681194,\n",
       " 0.33524568370334257,\n",
       " 0.3339875332365559,\n",
       " 0.332752803857181,\n",
       " 0.33154082944188695,\n",
       " 0.33035096897455246,\n",
       " 0.3291826053846515,\n",
       " 0.32803514444859977,\n",
       " 0.3269080137501915,\n",
       " 0.32580066169651645,\n",
       " 0.3247125565859952,\n",
       " 0.32364318572539374,\n",
       " 0.3225920545928908,\n",
       " 0.32155868604446247,\n",
       " 0.3205426195610322,\n",
       " 0.3195434105340002,\n",
       " 0.3185606295869212,\n",
       " 0.31759386193124445,\n",
       " 0.31664270675416445,\n",
       " 0.3157067766367549,\n",
       " 0.314785697000674,\n",
       " 0.31387910558183857,\n",
       " 0.312986651929564,\n",
       " 0.31210799692975927,\n",
       " 0.31124281235085743,\n",
       " 0.310390780411238,\n",
       " 0.30955159336697824,\n",
       " 0.30872495311883696,\n",
       " 0.3079105708374448,\n",
       " 0.30710816660573115,\n",
       " 0.30631746907768137,\n",
       " 0.3055382151525666,\n",
       " 0.30477014966384147,\n",
       " 0.3040130250819525,\n",
       " 0.3032666012303413,\n",
       " 0.30253064501397037,\n",
       " 0.30180493015973703,\n",
       " 0.30108923696817674,\n",
       " 0.30038335207589134,\n",
       " 0.29968706822816965,\n",
       " 0.2990001840612963,\n",
       " 0.29832250389407605,\n",
       " 0.29765383752812113,\n",
       " 0.29699400005648113,\n",
       " 0.2963428116802109,\n",
       " 0.29570009753249976,\n",
       " 0.2950656875100006,\n",
       " 0.294439416111021,\n",
       " 0.29382112228025337,\n",
       " 0.2932106492597402,\n",
       " 0.29260784444578464,\n",
       " 0.2920125592515339,\n",
       " 0.2914246489749756,\n",
       " 0.29084397267210044,\n",
       " 0.29027039303499846,\n",
       " 0.2897037762746675,\n",
       " 0.28914399200832225,\n",
       " 0.28859091315100627,\n",
       " 0.2880444158113153,\n",
       " 0.2875043791910524,\n",
       " 0.28697068548864424,\n",
       " 0.2864432198061545,\n",
       " 0.28592187005974,\n",
       " 0.2854065268934025,\n",
       " 0.28489708359589516,\n",
       " 0.28439343602065087,\n",
       " 0.28389548250860525,\n",
       " 0.28340312381379246,\n",
       " 0.2829162630315997,\n",
       " 0.2824348055295698,\n",
       " 0.28195865888064653,\n",
       " 0.28148773279876493,\n",
       " 0.2810219390766881,\n",
       " 0.2805611915260031,\n",
       " 0.2801054059191861,\n",
       " 0.2796544999336564,\n",
       " 0.2792083930977387,\n",
       " 0.2787670067384594,\n",
       " 0.2783302639311034,\n",
       " 0.2778980894504641,\n",
       " 0.2774704097237197,\n",
       " 0.2770471527848731,\n",
       " 0.2766282482306952,\n",
       " 0.2762136271781151,\n",
       " 0.2758032222229997,\n",
       " 0.2753969674002733,\n",
       " 0.2749947981453235,\n",
       " 0.2745966512566482,\n",
       " 0.27420246485969463,\n",
       " 0.2738121783718485,\n",
       " 0.27342573246852986,\n",
       " 0.27304306905035464,\n",
       " 0.2726641312113239,\n",
       " 0.27228886320800294,\n",
       " 0.27191721042965444,\n",
       " 0.27154911936929166,\n",
       " 0.2711845375956184,\n",
       " 0.27082341372582475,\n",
       " 0.2704656973992075,\n",
       " 0.27011133925158676,\n",
       " 0.2697602908904911,\n",
       " 0.2694125048710832,\n",
       " 0.26906793467280193,\n",
       " 0.2687265346766949,\n",
       " 0.26838826014341804,\n",
       " 0.26805306719188,\n",
       " 0.26772091277850785,\n",
       " 0.26739175467711573,\n",
       " 0.2670655514593528,\n",
       " 0.26674226247571364,\n",
       " 0.2664218478370914,\n",
       " 0.2661042683968554,\n",
       " 0.265789485733436,\n",
       " 0.2654774621334004,\n",
       " 0.26516816057500286,\n",
       " 0.2648615447121939,\n",
       " 0.26455757885907416,\n",
       " 0.2642562279747772,\n",
       " 0.26395745764876927,\n",
       " 0.26366123408655084,\n",
       " 0.2633675240957488,\n",
       " 0.26307629507258545,\n",
       " 0.26278751498871344,\n",
       " 0.26250115237840427,\n",
       " 0.2622171763260806,\n",
       " 0.26193555645417976,\n",
       " 0.26165626291134003,\n",
       " 0.26137926636089837,\n",
       " 0.2611045379696911,\n",
       " 0.26083204939714716,\n",
       " 0.2605617727846662,\n",
       " 0.26029368074527126,\n",
       " 0.26002774635353015,\n",
       " 0.2597639431357346,\n",
       " 0.25950224506033165,\n",
       " 0.25924262652859886,\n",
       " 0.25898506236555635,\n",
       " 0.25872952781110786,\n",
       " 0.2584759985114057,\n",
       " 0.25822445051043114,\n",
       " 0.25797486024178573,\n",
       " 0.2577272045206861,\n",
       " 0.2574814605361565,\n",
       " 0.2572376058434145,\n",
       " 0.25699561835644286,\n",
       " 0.256755476340743,\n",
       " 0.25651715840626493,\n",
       " 0.25628064350050844,\n",
       " 0.2560459109017903,\n",
       " 0.2558129402126741,\n",
       " 0.25558171135355634,\n",
       " 0.2553522045564064,\n",
       " 0.255124400358654,\n",
       " 0.2548982795972221,\n",
       " 0.2546738234026996,\n",
       " 0.2544510131936512,\n",
       " 0.2542298306710601,\n",
       " 0.2540102578128991,\n",
       " 0.2537922768688291,\n",
       " 0.2535758703550184,\n",
       " 0.25336102104908187,\n",
       " 0.25314771198513614,\n",
       " 0.2529359264489668,\n",
       " 0.2527256479733061,\n",
       " 0.25251686033321763,\n",
       " 0.2523095475415837,\n",
       " 0.252103693844696,\n",
       " 0.2518992837179435,\n",
       " 0.2516963018615968,\n",
       " 0.251494733196686,\n",
       " 0.25129456286097024,\n",
       " 0.251095776204995,\n",
       " 0.2508983587882371,\n",
       " 0.2507022963753326,\n",
       " 0.2505075749323887,\n",
       " 0.2503141806233738,\n",
       " 0.25012209980658645,\n",
       " 0.24993131903120092,\n",
       " 0.24974182503388548,\n",
       " 0.24955360473549448,\n",
       " 0.2493666452378296,\n",
       " 0.24918093382047077,\n",
       " 0.2489964579376737,\n",
       " 0.24881320521533265,\n",
       " 0.24863116344800731,\n",
       " 0.24845032059601146,\n",
       " 0.2482706647825626,\n",
       " 0.2480921842909907,\n",
       " 0.24791486756200465,\n",
       " 0.24773870319101504,\n",
       " 0.24756367992551198,\n",
       " 0.24738978666249659,\n",
       " 0.24721701244596497,\n",
       " 0.24704534646444312,\n",
       " 0.24687477804857197,\n",
       " 0.24670529666874103,\n",
       " 0.24653689193276962,\n",
       " 0.2463695535836348,\n",
       " 0.24620327149724447,\n",
       " 0.24603803568025473,\n",
       " 0.24587383626793066,\n",
       " 0.2457106635220496,\n",
       " 0.24554850782884516,\n",
       " 0.24538735969699224,\n",
       " 0.2452272097556312,\n",
       " 0.24506804875243032,\n",
       " 0.24490986755168614,\n",
       " 0.24475265713246097,\n",
       " 0.2445964085867555,\n",
       " 0.24444111311771735,\n",
       " 0.24428676203788358,\n",
       " 0.24413334676745693,\n",
       " 0.2439808588326147,\n",
       " 0.24382928986384997,\n",
       " 0.24367863159434427,\n",
       " 0.24352887585837052,\n",
       " 0.24338001458972627,\n",
       " 0.24323203982019656,\n",
       " 0.24308494367804495,\n",
       " 0.24293871838653322,\n",
       " 0.24279335626246767,\n",
       " 0.24264884971477352,\n",
       " 0.24250519124309441,\n",
       " 0.2423623734364186,\n",
       " 0.2422203889717295,\n",
       " 0.24207923061268152,\n",
       " 0.2419388912082996,\n",
       " 0.24179936369170266,\n",
       " 0.24166064107884958,\n",
       " 0.24152271646730877,\n",
       " 0.24138558303504867,\n",
       " 0.24124923403925086,\n",
       " 0.2411136628151439,\n",
       " 0.2409788627748581,\n",
       " 0.24084482740630048,\n",
       " 0.24071155027204996,\n",
       " 0.24057902500827147,\n",
       " 0.2404472453236498,\n",
       " 0.2403162049983418,\n",
       " 0.24018589788294667,\n",
       " 0.24005631789749488,\n",
       " 0.2399274590304539,\n",
       " 0.2397993153377517,\n",
       " 0.23967188094181688,\n",
       " 0.2395451500306352,\n",
       " 0.23941911685682257,\n",
       " 0.2392937757367139,\n",
       " 0.23916912104946714,\n",
       " 0.23904514723618306,\n",
       " 0.23892184879903958,\n",
       " 0.2387992203004407,\n",
       " 0.2386772563621804,\n",
       " 0.23855595166461974,\n",
       " 0.2384353009458782,\n",
       " 0.23831529900103882,\n",
       " 0.23819594068136582,\n",
       " 0.2380772208935359,\n",
       " 0.23795913459888204,\n",
       " 0.23784167681264984,\n",
       " 0.23772484260326557,\n",
       " 0.23760862709161756,\n",
       " 0.23749302545034792,\n",
       " 0.23737803290315648,\n",
       " 0.2372636447241161,\n",
       " 0.23714985623699933,\n",
       " 0.23703666281461494,\n",
       " 0.23692405987815654,\n",
       " 0.23681204289656074,\n",
       " 0.23670060738587587,\n",
       " 0.23658974890864096,\n",
       " 0.23647946307327444,\n",
       " 0.23636974553347245,\n",
       " 0.23626059198761737,\n",
       " 0.23615199817819466,\n",
       " 0.2360439598912199,\n",
       " 0.23593647295567421,\n",
       " 0.23582953324294897,\n",
       " 0.23572313666629874,\n",
       " 0.23561727918030304,\n",
       " 0.23551195678033682,\n",
       " 0.23540716550204827,\n",
       " 0.23530290142084567,\n",
       " 0.23519916065139165,\n",
       " 0.23509593934710502,\n",
       " 0.23499323369967112,\n",
       " 0.23489103993855856,\n",
       " 0.23478935433054435,\n",
       " 0.2346881731792455,\n",
       " 0.23458749282465818,\n",
       " 0.23448730964270376,\n",
       " 0.23438762004478159,\n",
       " 0.23428842047732876,\n",
       " 0.23418970742138623,\n",
       " 0.23409147739217162,\n",
       " 0.23399372693865828,\n",
       " 0.2338964526431608,\n",
       " 0.23379965112092657,\n",
       " 0.23370331901973337,\n",
       " 0.23360745301949293,\n",
       " 0.23351204983186055,\n",
       " 0.2334171061998502,\n",
       " 0.2333226188974552,\n",
       " 0.23322858472927496,\n",
       " 0.23313500053014657,\n",
       " 0.2330418631647822,\n",
       " 0.2329491695274114,\n",
       " 0.23285691654142898,\n",
       " 0.23276510115904764,\n",
       " 0.232673720360956,\n",
       " 0.2325827711559809,\n",
       " 0.23249225058075523,\n",
       " 0.23240215569939032,\n",
       " 0.23231248360315263,\n",
       " 0.2322232314101457,\n",
       " 0.23213439626499568,\n",
       " 0.23204597533854268,\n",
       " 0.23195796582753517,\n",
       " 0.2318703649543291,\n",
       " 0.23178316996659193,\n",
       " 0.23169637813700966,\n",
       " 0.23160998676299904,\n",
       " 0.23152399316642297,\n",
       " 0.2314383946933103,\n",
       " 0.23135318871357938,\n",
       " 0.2312683726207659,\n",
       " 0.23118394383175347,\n",
       " 0.23109989978650866,\n",
       " 0.23101623794781997,\n",
       " 0.23093295580103956,\n",
       " 0.23085005085382904,\n",
       " 0.23076752063590872,\n",
       " 0.23068536269880988,\n",
       " 0.23060357461563116,\n",
       " 0.23052215398079728,\n",
       " 0.23044109840982188,\n",
       " 0.23036040553907314,\n",
       " 0.23028007302554251,\n",
       " 0.23020009854661694,\n",
       " 0.2301204797998535,\n",
       " 0.23004121450275783,\n",
       " 0.22996230039256474,\n",
       " 0.22988373522602246,\n",
       " 0.229805516779179,\n",
       " 0.22972764284717215,\n",
       " 0.2296501112440216,\n",
       " 0.2295729198024241,\n",
       " 0.22949606637355127,\n",
       " 0.22941954882685003,\n",
       " 0.22934336504984576,\n",
       " 0.22926751294794778,\n",
       " 0.22919199044425762,\n",
       " 0.2291167954793797,\n",
       " 0.2290419260112344,\n",
       " 0.22896738001487366,\n",
       " 0.22889315548229877,\n",
       " 0.22881925042228082,\n",
       " 0.22874566286018308,\n",
       " 0.22867239083778595,\n",
       " 0.22859943241311415,\n",
       " 0.22852678566026577,\n",
       " 0.22845444866924403,\n",
       " 0.22838241954579064,\n",
       " 0.2283106964112217,\n",
       " 0.22823927740226538,\n",
       " 0.22816816067090187,\n",
       " 0.2280973443842053,\n",
       " 0.22802682672418711,\n",
       " 0.22795660588764277,\n",
       " 0.22788668008599863,\n",
       " 0.2278170475451621,\n",
       " 0.22774770650537285,\n",
       " 0.22767865522105651,\n",
       " 0.22760989196067946,\n",
       " 0.22754141500660602,\n",
       " 0.22747322265495726,\n",
       " 0.2274053132154713,\n",
       " 0.2273376850113656,\n",
       " 0.22727033637920074,\n",
       " 0.22720326566874607,\n",
       " 0.22713647124284703,\n",
       " 0.22706995147729353,\n",
       " 0.22700370476069076,\n",
       " 0.22693772949433108,\n",
       " 0.22687202409206744,\n",
       " 0.22680658698018852,\n",
       " 0.22674141659729521,\n",
       " 0.22667651139417877,\n",
       " 0.22661186983370019,\n",
       " 0.22654749039067135,\n",
       " 0.2264833715517372,\n",
       " 0.22641951181525968,\n",
       " 0.2263559096912028,\n",
       " 0.22629256370101922,\n",
       " 0.22622947237753796,\n",
       " 0.2261666342648539,\n",
       " 0.2261040479182181,\n",
       " 0.2260417119039296,\n",
       " 0.2259796247992285,\n",
       " 0.22591778519219027,\n",
       " 0.22585619168162144,\n",
       " 0.22579484287695614,\n",
       " 0.2257337373981543,\n",
       " 0.22567287387560087,\n",
       " 0.22561225095000573,\n",
       " 0.22555186727230578,\n",
       " 0.22549172150356714,\n",
       " 0.22543181231488915,\n",
       " 0.22537213838730907,\n",
       " 0.22531269841170812,\n",
       " 0.22525349108871864,\n",
       " 0.2251945151286319,\n",
       " 0.22513576925130757,\n",
       " 0.22507725218608357,\n",
       " 0.22501896267168783,\n",
       " 0.22496089945614978,\n",
       " 0.22490306129671406,\n",
       " 0.2248454469597548,\n",
       " 0.22478805522069023,\n",
       " 0.22473088486389933,\n",
       " 0.22467393468263883,\n",
       " 0.22461720347896083,\n",
       " 0.22456069006363208,\n",
       " 0.22450439325605367,\n",
       " 0.2244483118841818,\n",
       " 0.22439244478444917,\n",
       " 0.22433679080168778,\n",
       " 0.22428134878905187,\n",
       " 0.22422611760794248,\n",
       " 0.22417109612793212,\n",
       " 0.2241162832266908,\n",
       " 0.22406167778991276,\n",
       " 0.22400727871124354,\n",
       " 0.22395308489220875,\n",
       " 0.2238990952421427,\n",
       " 0.22384530867811842,\n",
       " 0.22379172412487805,\n",
       " 0.2237383405147646,\n",
       " 0.2236851567876534,\n",
       " 0.22363217189088544,\n",
       " 0.2235793847792005,\n",
       " 0.22352679441467194,\n",
       " 0.22347439976664085,\n",
       " 0.22342219981165265,\n",
       " 0.22337019353339269,\n",
       " 0.22331837992262366,\n",
       " 0.2232667579771233,\n",
       " 0.22321532670162253,\n",
       " 0.22316408510774474,\n",
       " 0.22311303221394524,\n",
       " 0.2230621670454519,\n",
       " 0.22301148863420556,\n",
       " 0.22296099601880223,\n",
       " 0.22291068824443486,\n",
       " 0.22286056436283608,\n",
       " 0.22281062343222202,\n",
       " 0.222760864517236,\n",
       " 0.22271128668889298,\n",
       " 0.22266188902452505,\n",
       " 0.22261267060772694,\n",
       " 0.2225636305283023,\n",
       " 0.22251476788221078,\n",
       " 0.22246608177151517,\n",
       " 0.2224175713043293,\n",
       " 0.222369235594767,\n",
       " 0.22232107376289054,\n",
       " 0.22227308493466047,\n",
       " 0.22222526824188568,\n",
       " 0.22217762282217388,\n",
       " 0.22213014781888268,\n",
       " 0.2220828423810713,\n",
       " 0.22203570566345254,\n",
       " 0.2219887368263453,\n",
       " 0.22194193503562762,\n",
       " 0.22189529946269038,\n",
       " 0.22184882928439112,\n",
       " 0.2218025236830086,\n",
       " 0.22175638184619748,\n",
       " 0.22171040296694405,\n",
       " 0.22166458624352167,\n",
       " 0.22161893087944756,\n",
       " 0.22157343608343877,\n",
       " 0.22152810106937004,\n",
       " 0.22148292505623082,\n",
       " 0.2214379072680835,\n",
       " 0.22139304693402195,\n",
       " 0.22134834328812994,\n",
       " 0.2213037955694408,\n",
       " 0.22125940302189662,\n",
       " 0.22121516489430876,\n",
       " 0.2211710804403178,\n",
       " 0.2211271489183547,\n",
       " 0.2210833695916018,\n",
       " 0.2210397417279544,\n",
       " 0.22099626459998284,\n",
       " 0.22095293748489486,\n",
       " 0.220909759664498,\n",
       " 0.22086673042516303,\n",
       " 0.220823849057787,\n",
       " 0.22078111485775728,\n",
       " 0.22073852712491582,\n",
       " 0.22069608516352307,\n",
       " 0.22065378828222323,\n",
       " 0.22061163579400944,\n",
       " 0.220569627016189,\n",
       " 0.2205277612703494,\n",
       " 0.2204860378823242,\n",
       " 0.22044445618216002,\n",
       " 0.2204030155040828,\n",
       " 0.22036171518646508,\n",
       " 0.22032055457179361,\n",
       " 0.22027953300663675,\n",
       " 0.22023864984161295,\n",
       " 0.22019790443135867,\n",
       " 0.22015729613449722,\n",
       " 0.2201168243136076,\n",
       " 0.22007648833519408,\n",
       " 0.22003628756965513,\n",
       " 0.21999622139125372,\n",
       " 0.21995628917808724,\n",
       " 0.21991649031205784,\n",
       " 0.21987682417884322,\n",
       " 0.2198372901678672,\n",
       " 0.21979788767227149,\n",
       " 0.21975861608888664,\n",
       " 0.219719474818204,\n",
       " 0.2196804632643478,\n",
       " 0.21964158083504695,\n",
       " 0.21960282694160824,\n",
       " 0.21956420099888857,\n",
       " 0.21952570242526812,\n",
       " 0.2194873306426237,\n",
       " 0.2194490850763021,\n",
       " 0.21941096515509395,\n",
       " 0.21937297031120773,\n",
       " 0.21933509998024378,\n",
       " 0.21929735360116923,\n",
       " 0.2192597306162922,\n",
       " 0.21922223047123685,\n",
       " 0.21918485261491882,\n",
       " 0.2191475964995203,\n",
       " 0.21911046158046568,\n",
       " 0.21907344731639763,\n",
       " 0.21903655316915271,\n",
       " 0.21899977860373798,\n",
       " 0.21896312308830737,\n",
       " 0.21892658609413837,\n",
       " 0.21889016709560877,\n",
       " 0.21885386557017394,\n",
       " 0.21881768099834426,\n",
       " 0.21878161286366216,\n",
       " 0.21874566065268033,\n",
       " 0.2187098238549394,\n",
       " 0.21867410196294595,\n",
       " 0.218638494472151,\n",
       " 0.21860300088092843,\n",
       " 0.2185676206905535,\n",
       " 0.21853235340518212,\n",
       " 0.2184971985318293,\n",
       " 0.21846215558034907,\n",
       " 0.2184272240634134,\n",
       " 0.2183924034964919,\n",
       " 0.21835769339783193,\n",
       " 0.21832309328843785,\n",
       " 0.21828860269205203,\n",
       " 0.2182542211351345,\n",
       " 0.2182199481468437,\n",
       " 0.21818578325901705,\n",
       " 0.2181517260061518,\n",
       " 0.21811777592538606,\n",
       " 0.2180839325564797,\n",
       " 0.21805019544179607,\n",
       " 0.21801656412628312,\n",
       " 0.21798303815745512,\n",
       " 0.21794961708537464,\n",
       " 0.21791630046263422,\n",
       " 0.21788308784433852,\n",
       " 0.21784997878808676,\n",
       " 0.21781697285395493,\n",
       " 0.21778406960447844,\n",
       " 0.21775126860463473,\n",
       " 0.21771856942182644,\n",
       " 0.21768597162586378,\n",
       " 0.2176534747889483,\n",
       " 0.21762107848565587,\n",
       " 0.21758878229292009,\n",
       " 0.21755658579001594,\n",
       " 0.21752448855854348,\n",
       " 0.21749249018241165,\n",
       " 0.21746059024782238,\n",
       " 0.21742878834325438,\n",
       " 0.2173970840594477,\n",
       " 0.21736547698938802,\n",
       " 0.21733396672829106,\n",
       " 0.21730255287358746,\n",
       " 0.21727123502490717,\n",
       " 0.21724001278406457,\n",
       " 0.21720888575504368,\n",
       " 0.2171778535439828,\n",
       " 0.21714691575916029,\n",
       " 0.2171160720109796,\n",
       " 0.21708532191195481,\n",
       " 0.2170546650766966,\n",
       " 0.21702410112189757,\n",
       " 0.21699362966631824,\n",
       " 0.2169632503307733,\n",
       " 0.21693296273811713,\n",
       " 0.2169027665132306,\n",
       " 0.216872661283007,\n",
       " 0.2168426466763388,\n",
       " 0.21681272232410365,\n",
       " 0.21678288785915176,\n",
       " 0.21675314291629208,\n",
       " 0.21672348713227935,\n",
       " 0.21669392014580113,\n",
       " 0.21666444159746495,\n",
       " 0.21663505112978523,\n",
       " 0.2166057483871709,\n",
       " 0.21657653301591231,\n",
       " 0.21654740466416955,\n",
       " 0.21651836298195903,\n",
       " 0.21648940762114188,\n",
       " 0.21646053823541145,\n",
       " 0.21643175448028154,\n",
       " 0.21640305601307355,\n",
       " 0.21637444249290586,\n",
       " 0.21634591358068073,\n",
       " 0.21631746893907333,\n",
       " 0.21628910823251993,\n",
       " 0.21626083112720615,\n",
       " 0.21623263729105596,\n",
       " 0.21620452639371965,\n",
       " 0.21617649810656342,\n",
       " 0.21614855210265732,\n",
       " 0.2161206880567648,\n",
       " 0.21609290564533135,\n",
       " 0.21606520454647363,\n",
       " 0.21603758443996895,\n",
       " 0.216010045007244,\n",
       " 0.21598258593136457,\n",
       " 0.2159552068970249,\n",
       " 0.21592790759053707,\n",
       " 0.21590068769982051,\n",
       " 0.21587354691439206,\n",
       " 0.2158464849253553,\n",
       " 0.2158195014253905,\n",
       " 0.21579259610874452,\n",
       " 0.21576576867122108,\n",
       " 0.21573901881017016,\n",
       " 0.21571234622447882,\n",
       " 0.21568575061456094,\n",
       " 0.21565923168234793,\n",
       " 0.21563278913127853,\n",
       " 0.21560642266628974,\n",
       " 0.21558013199380718,\n",
       " 0.2155539168217355,\n",
       " 0.21552777685944935,\n",
       " 0.21550171181778374,\n",
       " 0.21547572140902527,\n",
       " 0.21544980534690247,\n",
       " 0.2154239633465771,\n",
       " 0.2153981951246352,\n",
       " 0.21537250039907796,\n",
       " 0.2153468788893129,\n",
       " 0.215321330316145,\n",
       " 0.21529585440176832,\n",
       " 0.2152704508697569,\n",
       " 0.21524511944505648,\n",
       " 0.2152198598539758,\n",
       " 0.2151946718241782,\n",
       " 0.21516955508467311,\n",
       " 0.2151445093658081,\n",
       " 0.21511953439925977,\n",
       " 0.21509462991802664,\n",
       " 0.21506979565642012,\n",
       " 0.2150450313500568,\n",
       " 0.21502033673585014,\n",
       " 0.2149957115520031,\n",
       " 0.2149711555379994,\n",
       " 0.21494666843459642,\n",
       " 0.21492224998381676,\n",
       " 0.2148978999289411,\n",
       " 0.21487361801450008,\n",
       " 0.21484940398626662,\n",
       " 0.21482525759124899,\n",
       " 0.2148011785776825,\n",
       " 0.2147771666950225,\n",
       " 0.21475322169393699,\n",
       " 0.21472934332629898,\n",
       " 0.21470553134517936,\n",
       " 0.21468178550483988,\n",
       " 0.21465810556072554,\n",
       " 0.21463449126945777,\n",
       " 0.21461094238882705,\n",
       " 0.2145874586777864,\n",
       " 0.2145640398964437,\n",
       " 0.21454068580605537,\n",
       " 0.2145173961690191,\n",
       " 0.21449417074886717,\n",
       " 0.21447100931025978,\n",
       " 0.21444791161897797,\n",
       " 0.21442487744191735,\n",
       " 0.2144019065470811,\n",
       " 0.21437899870357371,\n",
       " 0.2143561536815942,\n",
       " 0.21433337125242957,\n",
       " 0.21431065118844886,\n",
       " 0.21428799326309594,\n",
       " 0.21426539725088387,\n",
       " 0.21424286292738826,\n",
       " 0.21422039006924085,\n",
       " 0.21419797845412386,\n",
       " 0.21417562786076308,\n",
       " 0.21415333806892237,\n",
       " 0.2141311088593971,\n",
       " 0.2141089400140084,\n",
       " 0.2140868313155972,\n",
       " 0.21406478254801783,\n",
       " 0.2140427934961327,\n",
       " 0.21402086394580588,\n",
       " 0.21399899368389771,\n",
       " 0.21397718249825864,\n",
       " 0.21395543017772378,\n",
       " 0.213933736512107,\n",
       " 0.21391210129219526,\n",
       " 0.2138905243097431,\n",
       " 0.21386900535746692,\n",
       " 0.2138475442290394,\n",
       " 0.2138261407190842,\n",
       " 0.2138047946231703,\n",
       " 0.21378350573780652,\n",
       " 0.21376227386043625,\n",
       " 0.213741098789432,\n",
       " 0.21371998032409026,\n",
       " 0.21369891826462578,\n",
       " 0.21367791241216666,\n",
       " 0.21365696256874933,\n",
       " 0.21363606853731276,\n",
       " 0.21361523012169387,\n",
       " 0.21359444712662204,\n",
       " 0.21357371935771433,\n",
       " 0.2135530466214703,\n",
       " 0.21353242872526676,\n",
       " 0.21351186547735346,\n",
       " 0.21349135668684746,\n",
       " 0.21347090216372855,\n",
       " 0.2134505017188344,\n",
       " 0.21343015516385563,\n",
       " 0.21340986231133097,\n",
       " 0.21338962297464265,\n",
       " 0.21336943696801144,\n",
       " 0.21334930410649225,\n",
       " 0.213329224205969,\n",
       " 0.21330919708315052,\n",
       " 0.2132892225555656,\n",
       " 0.2132693004415583,\n",
       " 0.21324943056028375,\n",
       " 0.2132296127317033,\n",
       " 0.2132098467765804,\n",
       " 0.2131901325164757,\n",
       " 0.21317046977374296,\n",
       " 0.21315085837152456,\n",
       " 0.21313129813374704,\n",
       " 0.2131117888851168,\n",
       " 0.2130923304511159,\n",
       " 0.2130729226579976,\n",
       " 0.2130535653327823,\n",
       " 0.21303425830325304,\n",
       " 0.21301500139795168,\n",
       " 0.21299579444617436,\n",
       " 0.21297663727796753,\n",
       " 0.212957529724124,\n",
       " 0.21293847161617838,\n",
       " 0.21291946278640353,\n",
       " 0.21290050306780625,\n",
       " 0.21288159229412337,\n",
       " 0.21286273029981762,\n",
       " 0.21284391692007382,\n",
       " 0.21282515199079513,\n",
       " 0.21280643534859858,\n",
       " 0.21278776683081177,\n",
       " 0.2127691462754688,\n",
       " 0.21275057352130627,\n",
       " 0.2127320484077599,\n",
       " 0.21271357077496028,\n",
       " 0.21269514046372934,\n",
       " 0.21267675731557684,\n",
       " 0.21265842117269618,\n",
       " 0.21264013187796113,\n",
       " 0.21262188927492204,\n",
       " 0.21260369320780212,\n",
       " 0.21258554352149386,\n",
       " 0.21256744006155573,\n",
       " 0.21254938267420811,\n",
       " 0.21253137120633014,\n",
       " 0.21251340550545617,\n",
       " 0.21249548541977203,\n",
       " 0.21247761079811178,\n",
       " 0.2124597814899541,\n",
       " 0.21244199734541916,\n",
       " 0.2124242582152649,\n",
       " 0.21240656395088361,\n",
       " 0.21238891440429897,\n",
       " 0.2123713094281623,\n",
       " 0.21235374887574934,\n",
       " 0.21233623260095727,\n",
       " 0.21231876045830092,\n",
       " 0.21230133230290982,\n",
       " 0.21228394799052502,\n",
       " 0.21226660737749561,\n",
       " 0.21224931032077585,\n",
       " 0.21223205667792172,\n",
       " 0.21221484630708787,\n",
       " 0.21219767906702458,\n",
       " 0.21218055481707454,\n",
       " 0.21216347341716965,\n",
       " 0.21214643472782818,\n",
       " 0.21212943861015163,\n",
       " 0.21211248492582166,\n",
       " 0.212095573537097,\n",
       " 0.21207870430681056,\n",
       " 0.2120618770983664,\n",
       " 0.21204509177573694,\n",
       " 0.21202834820345978,\n",
       " 0.21201164624663474,\n",
       " 0.2119949857709212,\n",
       " 0.2119783666425352,\n",
       " 0.21196178872824625,\n",
       " 0.21194525189537472,\n",
       " 0.21192875601178915,\n",
       " 0.2119123009459032,\n",
       " 0.21189588656667266,\n",
       " 0.21187951274359326,\n",
       " 0.21186317934669738,\n",
       " 0.2118468862465515,\n",
       " 0.21183063331425359,\n",
       " 0.21181442042143006,\n",
       " 0.21179824744023334,\n",
       " 0.2117821142433392,\n",
       " 0.21176602070394385,\n",
       " 0.21174996669576168,\n",
       " 0.21173395209302215,\n",
       " 0.2117179767704677,\n",
       " 0.21170204060335057,\n",
       " 0.2116861434674307,\n",
       " 0.21167028523897302,\n",
       " 0.21165446579474478,\n",
       " 0.21163868501201308,\n",
       " 0.2116229427685424,\n",
       " 0.21160723894259217,\n",
       " 0.21159157341291387,\n",
       " 0.21157594605874913,\n",
       " 0.21156035675982687,\n",
       " 0.21154480539636109,\n",
       " 0.21152929184904812,\n",
       " 0.21151381599906457,\n",
       " 0.2114983777280648,\n",
       " 0.21148297691817838,\n",
       " 0.2114676134520078,\n",
       " 0.21145228721262632,\n",
       " 0.21143699808357538,\n",
       " 0.2114217459488623,\n",
       " 0.211406530692958,\n",
       " 0.21139135220079483,\n",
       " 0.211376210357764,\n",
       " 0.2113611050497136,\n",
       " 0.21134603616294606,\n",
       " 0.21133100358421616,\n",
       " 0.2113160072007286,\n",
       " 0.21130104690013596,\n",
       " 0.21128612257053633,\n",
       " 0.21127123410047108,\n",
       " 0.2112563813789229,\n",
       " 0.21124156429531352,\n",
       " 0.21122678273950135,\n",
       " 0.2112120366017797,\n",
       " 0.2111973257728745,\n",
       " 0.21118265014394205,\n",
       " 0.21116800960656704,\n",
       " 0.21115340405276045,\n",
       " 0.2111388333749574,\n",
       " 0.21112429746601524,\n",
       " 0.21110979621921133,\n",
       " 0.21109532952824098,\n",
       " 0.21108089728721574,\n",
       " 0.21106649939066088,\n",
       " 0.21105213573351367,\n",
       " 0.2110378062111215,\n",
       " 0.21102351071923955,\n",
       " 0.21100924915402913,\n",
       " 0.21099502141205562,\n",
       " 0.21098082739028634,\n",
       " 0.21096666698608885,\n",
       " 0.21095254009722905,\n",
       " 0.21093844662186897,\n",
       " 0.21092438645856518,\n",
       " 0.21091035950626655,\n",
       " 0.2108963656643129,\n",
       " 0.21088240483243248,\n",
       " 0.21086847691074062,\n",
       " 0.21085458179973762,\n",
       " 0.21084071940030708,\n",
       " 0.21082688961371382,\n",
       " 0.2108130923416021,\n",
       " 0.21079932748599434,\n",
       " 0.21078559494928847,\n",
       " 0.21077189463425683,\n",
       " 0.2107582264440439,\n",
       " 0.21074459028216502,\n",
       " 0.21073098605250423,\n",
       " 0.2107174136593126,\n",
       " 0.2107038730072068,\n",
       " 0.2106903640011668,\n",
       " 0.21067688654653471,\n",
       " 0.21066344054901284,\n",
       " 0.2106500259146619,\n",
       " 0.2106366425498995,\n",
       " 0.21062329036149827,\n",
       " 0.21060996925658448,\n",
       " 0.21059667914263602,\n",
       " 0.21058341992748106,\n",
       " 0.21057019151929623,\n",
       " 0.210556993826605,\n",
       " 0.2105438267582762,\n",
       " 0.21053069022352222,\n",
       " 0.2105175841318975,\n",
       " ...]"
      ]
     },
     "execution_count": 35,
     "metadata": {},
     "output_type": "execute_result"
    }
   ],
   "source": [
    "cost_list #you should see the cost is decreasing"
   ]
  },
  {
   "cell_type": "markdown",
   "metadata": {},
   "source": [
    "### Try to change the value of 'alpha' and choose the fastest cost"
   ]
  },
  {
   "cell_type": "code",
   "execution_count": 36,
   "metadata": {},
   "outputs": [
    {
     "data": {
      "text/plain": [
       "[<matplotlib.lines.Line2D at 0x7f84df05ef28>]"
      ]
     },
     "execution_count": 36,
     "metadata": {},
     "output_type": "execute_result"
    },
    {
     "data": {
      "image/png": "[encoded data removed]",
      "text/plain": [
       "<Figure size 864x648 with 1 Axes>"
      ]
     },
     "metadata": {},
     "output_type": "display_data"
    }
   ],
   "source": [
    "plt.plot(iterations, cost_list, 'g')"
   ]
  },
  {
   "cell_type": "markdown",
   "metadata": {},
   "source": [
    "## 4.2 Updated Hypothesis Function"
   ]
  },
  {
   "cell_type": "markdown",
   "metadata": {},
   "source": [
    "        Obtained Hypothesis function, which has values ranging from 0 to 1. They are written in scientific notation because of numpy."
   ]
  },
  {
   "cell_type": "code",
   "execution_count": 37,
   "metadata": {},
   "outputs": [],
   "source": [
    "H = 1/(1 + np.exp(-1 * np.dot(X_norm,Theta)))"
   ]
  },
  {
   "cell_type": "code",
   "execution_count": 38,
   "metadata": {},
   "outputs": [
    {
     "data": {
      "text/plain": [
       "array([1.34403076e-01, 3.65385640e-04, 7.81946298e-02, 9.72790972e-01,\n",
       "       9.92697809e-01, 2.73794518e-02, 9.95157043e-01, 4.38005085e-01,\n",
       "       9.98220335e-01, 6.90310888e-01, 8.60719298e-01, 6.00338000e-02,\n",
       "       9.96392139e-01, 9.98944289e-01, 2.01349917e-01, 9.53672084e-01,\n",
       "       4.39197097e-01, 2.01578289e-01, 9.98188250e-01, 5.56627132e-01,\n",
       "       1.11904471e-01, 9.94181039e-01, 2.07095413e-02, 7.24767528e-04,\n",
       "       9.76660296e-01, 7.94437068e-01, 5.78374442e-01, 8.12505846e-01,\n",
       "       1.41030789e-01, 3.80442488e-02, 8.39513487e-01, 9.55963470e-01,\n",
       "       2.03492401e-01, 4.04545842e-01, 1.16314282e-01, 6.50321230e-02,\n",
       "       7.84076014e-01, 9.66989992e-01, 2.55783894e-01, 8.54380961e-02,\n",
       "       9.38065421e-01, 1.78893410e-02, 9.97204477e-01, 5.02572677e-01,\n",
       "       1.40845816e-02, 1.88421574e-01, 9.79131178e-01, 9.99940667e-01,\n",
       "       9.96019210e-01, 9.99880876e-01, 9.92421930e-01, 9.97383020e-01,\n",
       "       8.54424300e-01, 9.55170343e-03, 2.30274505e-02, 9.16866218e-02,\n",
       "       9.99005017e-01, 6.36481880e-01, 9.63458424e-01, 9.85616128e-01,\n",
       "       9.97414796e-01, 1.33916099e-03, 1.17354006e-02, 8.59672608e-04,\n",
       "       1.14129638e-01, 7.75190106e-02, 8.94765875e-01, 2.61179763e-02,\n",
       "       9.99566331e-01, 6.62012402e-01, 4.94419301e-04, 9.48057327e-01,\n",
       "       9.99177142e-01, 8.24961323e-01, 8.48317458e-01, 9.99596561e-01,\n",
       "       8.60966346e-01, 5.88003541e-01, 3.75530688e-02, 5.78506710e-01,\n",
       "       9.96476577e-01, 9.44036360e-01, 8.37857620e-01, 2.49804033e-01,\n",
       "       9.99487532e-01, 9.91894850e-01, 3.71275049e-01, 9.98770259e-01,\n",
       "       9.99721718e-01, 1.55080601e-01, 9.99517890e-01, 9.99828068e-01,\n",
       "       5.84216410e-03, 9.96549243e-01, 8.77025518e-01, 8.03500099e-01,\n",
       "       6.89508787e-01, 9.99230306e-01, 3.63966053e-01, 9.98415328e-01])"
      ]
     },
     "execution_count": 38,
     "metadata": {},
     "output_type": "execute_result"
    }
   ],
   "source": [
    "H"
   ]
  },
  {
   "cell_type": "markdown",
   "metadata": {},
   "source": [
    "## 4.3 Decision Boundary"
   ]
  },
  {
   "cell_type": "code",
   "execution_count": 39,
   "metadata": {},
   "outputs": [
    {
     "data": {
      "text/plain": [
       "array([1.31342865, 3.13670569, 2.89778383])"
      ]
     },
     "execution_count": 39,
     "metadata": {},
     "output_type": "execute_result"
    }
   ],
   "source": [
    "Theta"
   ]
  },
  {
   "cell_type": "markdown",
   "metadata": {},
   "source": [
    "       Since theta0 + theta1 * x1 + theta2 * x2 = 0 is the decision boundary. To draw it, it is necessary to find x2 values as a function of x1 and theta. So x2 = (-theta0 - theta1 * x1)/theta2. The obained values of x2 are saved into new list."
   ]
  },
  {
   "cell_type": "code",
   "execution_count": 40,
   "metadata": {},
   "outputs": [],
   "source": [
    "X2 = []\n",
    "for i in range(100):\n",
    "    x2 = (-Theta[0] - Theta[1] * X_norm[i,1]) / Theta[2]\n",
    "    #x2 = (-Theta[0] - Theta[1] * X) / Theta[2]\n",
    "    X2.append(x2)"
   ]
  },
  {
   "cell_type": "markdown",
   "metadata": {},
   "source": [
    "    Since new theta was obtained based on normalized values of x, the graph also should have other dimensions:"
   ]
  },
  {
   "cell_type": "code",
   "execution_count": 41,
   "metadata": {},
   "outputs": [],
   "source": [
    "class_1_x1 = (y_equal_1[:,0] - mean_x1)/std_x1\n",
    "class_1_x2 = (y_equal_1[:,1] - mean_x2)/std_x2\n",
    "class_2_x1 = (y_equal_0[:,0] - mean_x1)/std_x1\n",
    "class_2_x2 = (y_equal_0[:,1] - mean_x2)/std_x2"
   ]
  },
  {
   "cell_type": "code",
   "execution_count": 42,
   "metadata": {},
   "outputs": [
    {
     "data": {
      "text/plain": [
       "<matplotlib.legend.Legend at 0x7f84df416898>"
      ]
     },
     "execution_count": 42,
     "metadata": {},
     "output_type": "execute_result"
    },
    {
     "data": {
      "image/png": "[encoded data removed]",
      "text/plain": [
       "<Figure size 864x648 with 1 Axes>"
      ]
     },
     "metadata": {},
     "output_type": "display_data"
    }
   ],
   "source": [
    "plt.plot(class_1_x1, class_1_x2, 'rx')\n",
    "plt.plot(class_2_x1, class_2_x2, 'bo')\n",
    "plt.plot(X_norm[:,1], X2, 'g')\n",
    "plt.title(\"Scatter plot of training data\")\n",
    "plt.xlabel(\"Exam 1 score\")\n",
    "plt.ylabel(\"Exam 2 score\")\n",
    "plt.legend(('Admitted','Not admitted'))"
   ]
  },
  {
   "cell_type": "markdown",
   "metadata": {},
   "source": [
    "## 4.3 Why normalization made sense and impacted all the results?"
   ]
  },
  {
   "cell_type": "markdown",
   "metadata": {},
   "source": [
    "> Understood with the help of Mayur \n",
    "https://stackoverflow.com/questions/36229340/divide-by-zero-encountered-in-log-when-not-dividing-by-zero/36229376 "
   ]
  },
  {
   "cell_type": "markdown",
   "metadata": {},
   "source": [
    "        Sigmoid function represented below when accepts values for t higher or equal than 40 outputs 1. And since sigmoid is our hypothesis and initial data contains high values for t, the hypothesis has been 1 (meaning our hypothesis classifies everything as 1st class). "
   ]
  },
  {
   "cell_type": "markdown",
   "metadata": {},
   "source": [
    "> sig(t) = (1/(1+np.exp(-t))"
   ]
  },
  {
   "cell_type": "markdown",
   "metadata": {},
   "source": [
    "<img src=\"Sigmoid-function-2.svg.png\">"
   ]
  },
  {
   "cell_type": "markdown",
   "metadata": {},
   "source": [
    "#### Try to change the value inside of sigmoid function as 40 and 36 and see this observation."
   ]
  },
  {
   "cell_type": "code",
   "execution_count": 43,
   "metadata": {},
   "outputs": [],
   "source": [
    "def sigmoid(a):\n",
    "    return 1/(1+np.exp(-a))"
   ]
  },
  {
   "cell_type": "code",
   "execution_count": 44,
   "metadata": {},
   "outputs": [
    {
     "data": {
      "text/plain": [
       "1.0"
      ]
     },
     "execution_count": 44,
     "metadata": {},
     "output_type": "execute_result"
    }
   ],
   "source": [
    "sigmoid(40)"
   ]
  },
  {
   "cell_type": "code",
   "execution_count": 45,
   "metadata": {},
   "outputs": [
    {
     "data": {
      "text/plain": [
       "0.9999999999999998"
      ]
     },
     "execution_count": 45,
     "metadata": {},
     "output_type": "execute_result"
    }
   ],
   "source": [
    "sigmoid(36)"
   ]
  },
  {
   "cell_type": "markdown",
   "metadata": {},
   "source": [
    "# The End."
   ]
  }
 ],
 "metadata": {
  "kernelspec": {
   "display_name": "Python 3",
   "language": "python",
   "name": "python3"
  },
  "language_info": {
   "codemirror_mode": {
    "name": "ipython",
    "version": 3
   },
   "file_extension": ".py",
   "mimetype": "text/x-python",
   "name": "python",
   "nbconvert_exporter": "python",
   "pygments_lexer": "ipython3",
   "version": "3.6.5"
  }
 },
 "nbformat": 4,
 "nbformat_minor": 2
}
