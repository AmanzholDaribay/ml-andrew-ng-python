{
 "cells": [
  {
   "cell_type": "markdown",
   "metadata": {},
   "source": [
    "# Logistic Regression with Regularization"
   ]
  },
  {
   "cell_type": "markdown",
   "metadata": {},
   "source": [
    "        Agreements: we write Docstring inside functions for the case when we invoke the function and push Shift + Tab, it will tell you what should be the dimentions of the inputs."
   ]
  },
  {
   "cell_type": "markdown",
   "metadata": {},
   "source": [
    "# 1. Loading and Visualization"
   ]
  },
  {
   "cell_type": "code",
   "execution_count": 1,
   "metadata": {},
   "outputs": [],
   "source": [
    "import numpy as np"
   ]
  },
  {
   "cell_type": "code",
   "execution_count": 2,
   "metadata": {},
   "outputs": [],
   "source": [
    "data = np.genfromtxt('ex2data2.txt', delimiter = ',')"
   ]
  },
  {
   "cell_type": "code",
   "execution_count": 3,
   "metadata": {},
   "outputs": [
    {
     "data": {
      "text/plain": [
       "array([[ 0.051267 ,  0.69956  ,  1.       ],\n",
       "       [-0.092742 ,  0.68494  ,  1.       ],\n",
       "       [-0.21371  ,  0.69225  ,  1.       ],\n",
       "       [-0.375    ,  0.50219  ,  1.       ],\n",
       "       [-0.51325  ,  0.46564  ,  1.       ],\n",
       "       [-0.52477  ,  0.2098   ,  1.       ],\n",
       "       [-0.39804  ,  0.034357 ,  1.       ],\n",
       "       [-0.30588  , -0.19225  ,  1.       ],\n",
       "       [ 0.016705 , -0.40424  ,  1.       ],\n",
       "       [ 0.13191  , -0.51389  ,  1.       ],\n",
       "       [ 0.38537  , -0.56506  ,  1.       ],\n",
       "       [ 0.52938  , -0.5212   ,  1.       ],\n",
       "       [ 0.63882  , -0.24342  ,  1.       ],\n",
       "       [ 0.73675  , -0.18494  ,  1.       ],\n",
       "       [ 0.54666  ,  0.48757  ,  1.       ],\n",
       "       [ 0.322    ,  0.5826   ,  1.       ],\n",
       "       [ 0.16647  ,  0.53874  ,  1.       ],\n",
       "       [-0.046659 ,  0.81652  ,  1.       ],\n",
       "       [-0.17339  ,  0.69956  ,  1.       ],\n",
       "       [-0.47869  ,  0.63377  ,  1.       ],\n",
       "       [-0.60541  ,  0.59722  ,  1.       ],\n",
       "       [-0.62846  ,  0.33406  ,  1.       ],\n",
       "       [-0.59389  ,  0.005117 ,  1.       ],\n",
       "       [-0.42108  , -0.27266  ,  1.       ],\n",
       "       [-0.11578  , -0.39693  ,  1.       ],\n",
       "       [ 0.20104  , -0.60161  ,  1.       ],\n",
       "       [ 0.46601  , -0.53582  ,  1.       ],\n",
       "       [ 0.67339  , -0.53582  ,  1.       ],\n",
       "       [-0.13882  ,  0.54605  ,  1.       ],\n",
       "       [-0.29435  ,  0.77997  ,  1.       ],\n",
       "       [-0.26555  ,  0.96272  ,  1.       ],\n",
       "       [-0.16187  ,  0.8019   ,  1.       ],\n",
       "       [-0.17339  ,  0.64839  ,  1.       ],\n",
       "       [-0.28283  ,  0.47295  ,  1.       ],\n",
       "       [-0.36348  ,  0.31213  ,  1.       ],\n",
       "       [-0.30012  ,  0.027047 ,  1.       ],\n",
       "       [-0.23675  , -0.21418  ,  1.       ],\n",
       "       [-0.06394  , -0.18494  ,  1.       ],\n",
       "       [ 0.062788 , -0.16301  ,  1.       ],\n",
       "       [ 0.22984  , -0.41155  ,  1.       ],\n",
       "       [ 0.2932   , -0.2288   ,  1.       ],\n",
       "       [ 0.48329  , -0.18494  ,  1.       ],\n",
       "       [ 0.64459  , -0.14108  ,  1.       ],\n",
       "       [ 0.46025  ,  0.012427 ,  1.       ],\n",
       "       [ 0.6273   ,  0.15863  ,  1.       ],\n",
       "       [ 0.57546  ,  0.26827  ,  1.       ],\n",
       "       [ 0.72523  ,  0.44371  ,  1.       ],\n",
       "       [ 0.22408  ,  0.52412  ,  1.       ],\n",
       "       [ 0.44297  ,  0.67032  ,  1.       ],\n",
       "       [ 0.322    ,  0.69225  ,  1.       ],\n",
       "       [ 0.13767  ,  0.57529  ,  1.       ],\n",
       "       [-0.0063364,  0.39985  ,  1.       ],\n",
       "       [-0.092742 ,  0.55336  ,  1.       ],\n",
       "       [-0.20795  ,  0.35599  ,  1.       ],\n",
       "       [-0.20795  ,  0.17325  ,  1.       ],\n",
       "       [-0.43836  ,  0.21711  ,  1.       ],\n",
       "       [-0.21947  , -0.016813 ,  1.       ],\n",
       "       [-0.13882  , -0.27266  ,  1.       ],\n",
       "       [ 0.18376  ,  0.93348  ,  0.       ],\n",
       "       [ 0.22408  ,  0.77997  ,  0.       ],\n",
       "       [ 0.29896  ,  0.61915  ,  0.       ],\n",
       "       [ 0.50634  ,  0.75804  ,  0.       ],\n",
       "       [ 0.61578  ,  0.7288   ,  0.       ],\n",
       "       [ 0.60426  ,  0.59722  ,  0.       ],\n",
       "       [ 0.76555  ,  0.50219  ,  0.       ],\n",
       "       [ 0.92684  ,  0.3633   ,  0.       ],\n",
       "       [ 0.82316  ,  0.27558  ,  0.       ],\n",
       "       [ 0.96141  ,  0.085526 ,  0.       ],\n",
       "       [ 0.93836  ,  0.012427 ,  0.       ],\n",
       "       [ 0.86348  , -0.082602 ,  0.       ],\n",
       "       [ 0.89804  , -0.20687  ,  0.       ],\n",
       "       [ 0.85196  , -0.36769  ,  0.       ],\n",
       "       [ 0.82892  , -0.5212   ,  0.       ],\n",
       "       [ 0.79435  , -0.55775  ,  0.       ],\n",
       "       [ 0.59274  , -0.7405   ,  0.       ],\n",
       "       [ 0.51786  , -0.5943   ,  0.       ],\n",
       "       [ 0.46601  , -0.41886  ,  0.       ],\n",
       "       [ 0.35081  , -0.57968  ,  0.       ],\n",
       "       [ 0.28744  , -0.76974  ,  0.       ],\n",
       "       [ 0.085829 , -0.75512  ,  0.       ],\n",
       "       [ 0.14919  , -0.57968  ,  0.       ],\n",
       "       [-0.13306  , -0.4481   ,  0.       ],\n",
       "       [-0.40956  , -0.41155  ,  0.       ],\n",
       "       [-0.39228  , -0.25804  ,  0.       ],\n",
       "       [-0.74366  , -0.25804  ,  0.       ],\n",
       "       [-0.69758  ,  0.041667 ,  0.       ],\n",
       "       [-0.75518  ,  0.2902   ,  0.       ],\n",
       "       [-0.69758  ,  0.68494  ,  0.       ],\n",
       "       [-0.4038   ,  0.70687  ,  0.       ],\n",
       "       [-0.38076  ,  0.91886  ,  0.       ],\n",
       "       [-0.50749  ,  0.90424  ,  0.       ],\n",
       "       [-0.54781  ,  0.70687  ,  0.       ],\n",
       "       [ 0.10311  ,  0.77997  ,  0.       ],\n",
       "       [ 0.057028 ,  0.91886  ,  0.       ],\n",
       "       [-0.10426  ,  0.99196  ,  0.       ],\n",
       "       [-0.081221 ,  1.1089   ,  0.       ],\n",
       "       [ 0.28744  ,  1.087    ,  0.       ],\n",
       "       [ 0.39689  ,  0.82383  ,  0.       ],\n",
       "       [ 0.63882  ,  0.88962  ,  0.       ],\n",
       "       [ 0.82316  ,  0.66301  ,  0.       ],\n",
       "       [ 0.67339  ,  0.64108  ,  0.       ],\n",
       "       [ 1.0709   ,  0.10015  ,  0.       ],\n",
       "       [-0.046659 , -0.57968  ,  0.       ],\n",
       "       [-0.23675  , -0.63816  ,  0.       ],\n",
       "       [-0.15035  , -0.36769  ,  0.       ],\n",
       "       [-0.49021  , -0.3019   ,  0.       ],\n",
       "       [-0.46717  , -0.13377  ,  0.       ],\n",
       "       [-0.28859  , -0.060673 ,  0.       ],\n",
       "       [-0.61118  , -0.067982 ,  0.       ],\n",
       "       [-0.66302  , -0.21418  ,  0.       ],\n",
       "       [-0.59965  , -0.41886  ,  0.       ],\n",
       "       [-0.72638  , -0.082602 ,  0.       ],\n",
       "       [-0.83007  ,  0.31213  ,  0.       ],\n",
       "       [-0.72062  ,  0.53874  ,  0.       ],\n",
       "       [-0.59389  ,  0.49488  ,  0.       ],\n",
       "       [-0.48445  ,  0.99927  ,  0.       ],\n",
       "       [-0.0063364,  0.99927  ,  0.       ],\n",
       "       [ 0.63265  , -0.030612 ,  0.       ]])"
      ]
     },
     "execution_count": 3,
     "metadata": {},
     "output_type": "execute_result"
    }
   ],
   "source": [
    "data"
   ]
  },
  {
   "cell_type": "code",
   "execution_count": 4,
   "metadata": {},
   "outputs": [],
   "source": [
    "y_1 = data[data[:, 2] == 1]\n",
    "y_0 = data[data[:, 2] == 0]"
   ]
  },
  {
   "cell_type": "code",
   "execution_count": 5,
   "metadata": {},
   "outputs": [],
   "source": [
    "import matplotlib.pyplot as plt"
   ]
  },
  {
   "cell_type": "code",
   "execution_count": 8,
   "metadata": {},
   "outputs": [
    {
     "data": {
      "text/plain": [
       "<matplotlib.legend.Legend at 0x7f7e3921cba8>"
      ]
     },
     "execution_count": 8,
     "metadata": {},
     "output_type": "execute_result"
    },
    {
     "data": {
      "image/png": "[encoded data removed]",
      "text/plain": [
       "<Figure size 864x648 with 1 Axes>"
      ]
     },
     "metadata": {},
     "output_type": "display_data"
    }
   ],
   "source": [
    "plt.plot(y_1[:,0], y_1[:,1], 'x')\n",
    "plt.plot(y_0[:,0], y_0[:,1], 'yo')\n",
    "plt.title(\"Plot of training data\")\n",
    "plt.xlabel(\"Microchip Test 1\")\n",
    "plt.ylabel(\"Microchip Test 2\")\n",
    "plt.legend(('y = 1', 'y = 0'))"
   ]
  },
  {
   "cell_type": "code",
   "execution_count": 9,
   "metadata": {},
   "outputs": [],
   "source": [
    "#To change the size of the plot\n",
    "fig_size = plt.rcParams[\"figure.figsize\"]\n",
    "fig_size[0] = 12\n",
    "fig_size[1] = 9\n",
    "plt.rcParams[\"figure.figsize\"] = fig_size"
   ]
  },
  {
   "cell_type": "markdown",
   "metadata": {},
   "source": [
    "    Rerun your code to see the bigger picture!"
   ]
  },
  {
   "cell_type": "markdown",
   "metadata": {},
   "source": [
    "# 2. Preprocessing of data"
   ]
  },
  {
   "cell_type": "markdown",
   "metadata": {},
   "source": [
    "> Sven Marnach from Stack Overflow: \"NumPy's transpose() effectively reverses the shape of an array. If the array is one-dimensional, this means it has no effect. It is necessary to deal with matrix type of numpy\""
   ]
  },
  {
   "cell_type": "code",
   "execution_count": 10,
   "metadata": {},
   "outputs": [],
   "source": [
    "Y = (data[:,2]).T"
   ]
  },
  {
   "cell_type": "code",
   "execution_count": 11,
   "metadata": {},
   "outputs": [
    {
     "data": {
      "text/plain": [
       "(118,)"
      ]
     },
     "execution_count": 11,
     "metadata": {},
     "output_type": "execute_result"
    }
   ],
   "source": [
    "Y.shape"
   ]
  },
  {
   "cell_type": "code",
   "execution_count": 12,
   "metadata": {},
   "outputs": [
    {
     "data": {
      "text/plain": [
       "(118,)"
      ]
     },
     "execution_count": 12,
     "metadata": {},
     "output_type": "execute_result"
    }
   ],
   "source": [
    "(Y.T).shape"
   ]
  },
  {
   "cell_type": "code",
   "execution_count": 13,
   "metadata": {},
   "outputs": [],
   "source": [
    "m = len(data[:,0]) #sample size"
   ]
  },
  {
   "cell_type": "markdown",
   "metadata": {},
   "source": [
    "## 2.1 Feature mapping"
   ]
  },
  {
   "cell_type": "markdown",
   "metadata": {},
   "source": [
    "        Since theta0 + theta1*x1 + theta*x2 = 0 is creating straight line, it is not enough to cover our trend. Thus, it has been decided to creat new features so that it would be quasi-circle, which means there should be degrees. Andrew NG proposes that there should be degrees up to 6, meaning there are 28 combinations of x1 and x2 (and one x0)."
   ]
  },
  {
   "cell_type": "code",
   "execution_count": 14,
   "metadata": {},
   "outputs": [],
   "source": [
    "#Degrees should be 6\n",
    "\n",
    "degree_list = []\n",
    "degrees = 6\n",
    "for i in range(7):\n",
    "    for j in range(7):\n",
    "        x1x2 =[]\n",
    "        if i+j <= 6:\n",
    "            x1x2.append(i)\n",
    "            x1x2.append(j)\n",
    "            degree_list.append(x1x2)"
   ]
  },
  {
   "cell_type": "code",
   "execution_count": 15,
   "metadata": {},
   "outputs": [
    {
     "data": {
      "text/plain": [
       "28"
      ]
     },
     "execution_count": 15,
     "metadata": {},
     "output_type": "execute_result"
    }
   ],
   "source": [
    "len(degree_list)"
   ]
  },
  {
   "cell_type": "code",
   "execution_count": 16,
   "metadata": {},
   "outputs": [],
   "source": [
    "n = len(degree_list) #feature size"
   ]
  },
  {
   "cell_type": "markdown",
   "metadata": {},
   "source": [
    "    Comment on result: there are 28 combinations as it has been required."
   ]
  },
  {
   "cell_type": "markdown",
   "metadata": {},
   "source": [
    "## 2.2 Creation of X (118 x 28)"
   ]
  },
  {
   "cell_type": "code",
   "execution_count": 17,
   "metadata": {},
   "outputs": [],
   "source": [
    "#Empty list creation: np.zeros or np.ones\n",
    "X = np.zeros(shape = (n,m))"
   ]
  },
  {
   "cell_type": "code",
   "execution_count": 18,
   "metadata": {},
   "outputs": [
    {
     "data": {
      "text/plain": [
       "(28, 118)"
      ]
     },
     "execution_count": 18,
     "metadata": {},
     "output_type": "execute_result"
    }
   ],
   "source": [
    "X.shape"
   ]
  },
  {
   "cell_type": "code",
   "execution_count": 19,
   "metadata": {},
   "outputs": [],
   "source": [
    "#Values of initial x1 and x2\n",
    "x1 = data[:,0]\n",
    "x2 = data[:,1]"
   ]
  },
  {
   "cell_type": "code",
   "execution_count": 20,
   "metadata": {},
   "outputs": [
    {
     "data": {
      "text/plain": [
       "(118,)"
      ]
     },
     "execution_count": 20,
     "metadata": {},
     "output_type": "execute_result"
    }
   ],
   "source": [
    "x1.shape"
   ]
  },
  {
   "cell_type": "code",
   "execution_count": 21,
   "metadata": {},
   "outputs": [
    {
     "data": {
      "text/plain": [
       "array([ 0.051267 , -0.092742 , -0.21371  , -0.375    , -0.51325  ,\n",
       "       -0.52477  , -0.39804  , -0.30588  ,  0.016705 ,  0.13191  ,\n",
       "        0.38537  ,  0.52938  ,  0.63882  ,  0.73675  ,  0.54666  ,\n",
       "        0.322    ,  0.16647  , -0.046659 , -0.17339  , -0.47869  ,\n",
       "       -0.60541  , -0.62846  , -0.59389  , -0.42108  , -0.11578  ,\n",
       "        0.20104  ,  0.46601  ,  0.67339  , -0.13882  , -0.29435  ,\n",
       "       -0.26555  , -0.16187  , -0.17339  , -0.28283  , -0.36348  ,\n",
       "       -0.30012  , -0.23675  , -0.06394  ,  0.062788 ,  0.22984  ,\n",
       "        0.2932   ,  0.48329  ,  0.64459  ,  0.46025  ,  0.6273   ,\n",
       "        0.57546  ,  0.72523  ,  0.22408  ,  0.44297  ,  0.322    ,\n",
       "        0.13767  , -0.0063364, -0.092742 , -0.20795  , -0.20795  ,\n",
       "       -0.43836  , -0.21947  , -0.13882  ,  0.18376  ,  0.22408  ,\n",
       "        0.29896  ,  0.50634  ,  0.61578  ,  0.60426  ,  0.76555  ,\n",
       "        0.92684  ,  0.82316  ,  0.96141  ,  0.93836  ,  0.86348  ,\n",
       "        0.89804  ,  0.85196  ,  0.82892  ,  0.79435  ,  0.59274  ,\n",
       "        0.51786  ,  0.46601  ,  0.35081  ,  0.28744  ,  0.085829 ,\n",
       "        0.14919  , -0.13306  , -0.40956  , -0.39228  , -0.74366  ,\n",
       "       -0.69758  , -0.75518  , -0.69758  , -0.4038   , -0.38076  ,\n",
       "       -0.50749  , -0.54781  ,  0.10311  ,  0.057028 , -0.10426  ,\n",
       "       -0.081221 ,  0.28744  ,  0.39689  ,  0.63882  ,  0.82316  ,\n",
       "        0.67339  ,  1.0709   , -0.046659 , -0.23675  , -0.15035  ,\n",
       "       -0.49021  , -0.46717  , -0.28859  , -0.61118  , -0.66302  ,\n",
       "       -0.59965  , -0.72638  , -0.83007  , -0.72062  , -0.59389  ,\n",
       "       -0.48445  , -0.0063364,  0.63265  ])"
      ]
     },
     "execution_count": 21,
     "metadata": {},
     "output_type": "execute_result"
    }
   ],
   "source": [
    "x1"
   ]
  },
  {
   "cell_type": "code",
   "execution_count": 22,
   "metadata": {},
   "outputs": [
    {
     "data": {
      "text/plain": [
       "[[0, 0],\n",
       " [0, 1],\n",
       " [0, 2],\n",
       " [0, 3],\n",
       " [0, 4],\n",
       " [0, 5],\n",
       " [0, 6],\n",
       " [1, 0],\n",
       " [1, 1],\n",
       " [1, 2],\n",
       " [1, 3],\n",
       " [1, 4],\n",
       " [1, 5],\n",
       " [2, 0],\n",
       " [2, 1],\n",
       " [2, 2],\n",
       " [2, 3],\n",
       " [2, 4],\n",
       " [3, 0],\n",
       " [3, 1],\n",
       " [3, 2],\n",
       " [3, 3],\n",
       " [4, 0],\n",
       " [4, 1],\n",
       " [4, 2],\n",
       " [5, 0],\n",
       " [5, 1],\n",
       " [6, 0]]"
      ]
     },
     "execution_count": 22,
     "metadata": {},
     "output_type": "execute_result"
    }
   ],
   "source": [
    "degree_list"
   ]
  },
  {
   "cell_type": "code",
   "execution_count": 23,
   "metadata": {},
   "outputs": [],
   "source": [
    "#Creating the new X\n",
    "for k in range(n):\n",
    "    for j in range(m):\n",
    "        X[k,j] = (x1[j] ** degree_list[k][0])  *  (x2[j] ** degree_list[k][1])"
   ]
  },
  {
   "cell_type": "code",
   "execution_count": 24,
   "metadata": {},
   "outputs": [
    {
     "data": {
      "text/plain": [
       "(28, 118)"
      ]
     },
     "execution_count": 24,
     "metadata": {},
     "output_type": "execute_result"
    }
   ],
   "source": [
    "X.shape"
   ]
  },
  {
   "cell_type": "code",
   "execution_count": 25,
   "metadata": {},
   "outputs": [
    {
     "data": {
      "text/plain": [
       "1.8593206849359922"
      ]
     },
     "execution_count": 25,
     "metadata": {},
     "output_type": "execute_result"
    }
   ],
   "source": [
    "np.max(X)"
   ]
  },
  {
   "cell_type": "markdown",
   "metadata": {},
   "source": [
    "    Comment on result: as it can be seen no need to normalize, because no big numbers in X."
   ]
  },
  {
   "cell_type": "markdown",
   "metadata": {},
   "source": [
    "## 2.3 Initialization of theta"
   ]
  },
  {
   "cell_type": "markdown",
   "metadata": {},
   "source": [
    "    Since we have 28 features, we need to have 28 thetas."
   ]
  },
  {
   "cell_type": "code",
   "execution_count": 26,
   "metadata": {},
   "outputs": [],
   "source": [
    "def theta_init():\n",
    "    return np.zeros(shape=(n,))"
   ]
  },
  {
   "cell_type": "markdown",
   "metadata": {},
   "source": [
    "### The most important note from the exercise: \n",
    "* if a = np.zeros(shape = (n,1)), then a.shape is (n,1) or a = [[1],[1],[1]]\n",
    "* if b = np.zeros(shape = (n,)), then b.shape is (n,) or b = array([1,1,1])"
   ]
  },
  {
   "cell_type": "markdown",
   "metadata": {},
   "source": [
    "    This affecting the whole afterwords procedures. For example, cost function outputs array([0.693]) for a above, while 0.693 for b above."
   ]
  },
  {
   "cell_type": "code",
   "execution_count": 27,
   "metadata": {},
   "outputs": [],
   "source": [
    "Theta = theta_init()"
   ]
  },
  {
   "cell_type": "code",
   "execution_count": 28,
   "metadata": {},
   "outputs": [
    {
     "data": {
      "text/plain": [
       "(28,)"
      ]
     },
     "execution_count": 28,
     "metadata": {},
     "output_type": "execute_result"
    }
   ],
   "source": [
    "Theta.shape"
   ]
  },
  {
   "cell_type": "markdown",
   "metadata": {},
   "source": [
    "## 2.4 Sigmoid function, which is our hypothesis"
   ]
  },
  {
   "cell_type": "code",
   "execution_count": 29,
   "metadata": {},
   "outputs": [
    {
     "data": {
      "text/plain": [
       "(28, 118)"
      ]
     },
     "execution_count": 29,
     "metadata": {},
     "output_type": "execute_result"
    }
   ],
   "source": [
    "X.shape"
   ]
  },
  {
   "cell_type": "code",
   "execution_count": 30,
   "metadata": {},
   "outputs": [
    {
     "data": {
      "text/plain": [
       "(28,)"
      ]
     },
     "execution_count": 30,
     "metadata": {},
     "output_type": "execute_result"
    }
   ],
   "source": [
    "Theta.shape"
   ]
  },
  {
   "cell_type": "code",
   "execution_count": 31,
   "metadata": {},
   "outputs": [],
   "source": [
    "def sigmoid(x,theta):\n",
    "    \"\"\"\n",
    "    x.shape should be (n,m)\n",
    "    theta.shape should be (n,1)\n",
    "    output has (m,1) shape\n",
    "    \"\"\"\n",
    "    z = x.T @ theta\n",
    "    return 1/(1 + np.exp(-z))"
   ]
  },
  {
   "cell_type": "markdown",
   "metadata": {},
   "source": [
    "### 2.4.1 Hypothesis before GDS"
   ]
  },
  {
   "cell_type": "code",
   "execution_count": 32,
   "metadata": {},
   "outputs": [],
   "source": [
    "H_before = sigmoid(X,Theta)"
   ]
  },
  {
   "cell_type": "code",
   "execution_count": 33,
   "metadata": {},
   "outputs": [
    {
     "data": {
      "text/plain": [
       "(118,)"
      ]
     },
     "execution_count": 33,
     "metadata": {},
     "output_type": "execute_result"
    }
   ],
   "source": [
    "H_before.shape"
   ]
  },
  {
   "cell_type": "code",
   "execution_count": 34,
   "metadata": {},
   "outputs": [
    {
     "data": {
      "text/plain": [
       "array([0.5, 0.5, 0.5, 0.5, 0.5, 0.5, 0.5, 0.5, 0.5, 0.5, 0.5, 0.5, 0.5,\n",
       "       0.5, 0.5, 0.5, 0.5, 0.5, 0.5, 0.5, 0.5, 0.5, 0.5, 0.5, 0.5, 0.5,\n",
       "       0.5, 0.5, 0.5, 0.5, 0.5, 0.5, 0.5, 0.5, 0.5, 0.5, 0.5, 0.5, 0.5,\n",
       "       0.5, 0.5, 0.5, 0.5, 0.5, 0.5, 0.5, 0.5, 0.5, 0.5, 0.5, 0.5, 0.5,\n",
       "       0.5, 0.5, 0.5, 0.5, 0.5, 0.5, 0.5, 0.5, 0.5, 0.5, 0.5, 0.5, 0.5,\n",
       "       0.5, 0.5, 0.5, 0.5, 0.5, 0.5, 0.5, 0.5, 0.5, 0.5, 0.5, 0.5, 0.5,\n",
       "       0.5, 0.5, 0.5, 0.5, 0.5, 0.5, 0.5, 0.5, 0.5, 0.5, 0.5, 0.5, 0.5,\n",
       "       0.5, 0.5, 0.5, 0.5, 0.5, 0.5, 0.5, 0.5, 0.5, 0.5, 0.5, 0.5, 0.5,\n",
       "       0.5, 0.5, 0.5, 0.5, 0.5, 0.5, 0.5, 0.5, 0.5, 0.5, 0.5, 0.5, 0.5,\n",
       "       0.5])"
      ]
     },
     "execution_count": 34,
     "metadata": {},
     "output_type": "execute_result"
    }
   ],
   "source": [
    "H_before"
   ]
  },
  {
   "cell_type": "markdown",
   "metadata": {},
   "source": [
    "# 3. Imlementation"
   ]
  },
  {
   "cell_type": "markdown",
   "metadata": {},
   "source": [
    "## 3.1 Cost Function"
   ]
  },
  {
   "cell_type": "code",
   "execution_count": 35,
   "metadata": {},
   "outputs": [],
   "source": [
    "def cost(x, theta, y, lamb):\n",
    "    \"\"\"\n",
    "    x.shape should be (n,m)\n",
    "    theta.shape should be (n,1)\n",
    "    y.shape should be (m,1)\n",
    "    \"\"\"\n",
    "    h = sigmoid(x, theta)\n",
    "    Cost = (-1/m) * (y.T @ np.log(h) + (1-y).T @ np.log(1-h))\n",
    "    Reg_term = lamb/(2*m) * np.sum(theta ** 2)\n",
    "    return Cost + Reg_term"
   ]
  },
  {
   "cell_type": "markdown",
   "metadata": {},
   "source": [
    "### 3.1.1 Initial Value of Cost"
   ]
  },
  {
   "cell_type": "code",
   "execution_count": 36,
   "metadata": {},
   "outputs": [
    {
     "data": {
      "text/plain": [
       "0.6931471805599453"
      ]
     },
     "execution_count": 36,
     "metadata": {},
     "output_type": "execute_result"
    }
   ],
   "source": [
    "cost(X,Theta,Y,0)"
   ]
  },
  {
   "cell_type": "markdown",
   "metadata": {},
   "source": [
    "> Andrew NG: cost for initial theta with zeros and lamb = 0 should be 0.693"
   ]
  },
  {
   "cell_type": "markdown",
   "metadata": {},
   "source": [
    "## 3.2 Gradient Descent Function"
   ]
  },
  {
   "cell_type": "code",
   "execution_count": 37,
   "metadata": {},
   "outputs": [],
   "source": [
    "def GDS(x, theta, y, lamb, alpha):\n",
    "    \"\"\"\n",
    "    x.shape should be (n,m)\n",
    "    theta.shape should be (n,1)\n",
    "    y.shape should be (m,1)\n",
    "    \"\"\"\n",
    "    dif = (1/m) * x @ (sigmoid(x,theta) - y) #classical differentiation term, output is (n,1)\n",
    "    dif_reg = (lamb/m) * theta\n",
    "    return (dif + dif_reg) * alpha"
   ]
  },
  {
   "cell_type": "markdown",
   "metadata": {},
   "source": [
    "# !RERUN CODE FROM HERE TO SEE HOW HYPERPARAMETERS AFFECT!"
   ]
  },
  {
   "cell_type": "markdown",
   "metadata": {},
   "source": [
    "## 3.3 Gradient Descent Function Implementation"
   ]
  },
  {
   "cell_type": "markdown",
   "metadata": {},
   "source": [
    "We write an algorithm: \n",
    "* which will stop when there is no increase in Cost Function\n",
    "* saves Cost Function values for each of the iteration to which alpha speeds up the learning\n",
    "* and obtain the updated values for theta"
   ]
  },
  {
   "cell_type": "markdown",
   "metadata": {},
   "source": [
    "### Set the hyperparameters for training"
   ]
  },
  {
   "cell_type": "code",
   "execution_count": 38,
   "metadata": {},
   "outputs": [],
   "source": [
    "iterations = 2000 #it will stop by itslef \n",
    "alpha = 0.5 #choose among 0.1, 0.01, 0.3, 0.03"
   ]
  },
  {
   "cell_type": "markdown",
   "metadata": {},
   "source": [
    "### Set the values for lambda:\n",
    "* lambda = 1 should give proper decision boundary\n",
    "* lambda = 0 (no regularization) should give Overfitting for decision boundary\n",
    "* lambda = 100 should give Underfitting for decision boundary\n",
    "##### All based on Andrew NG classes \"Machine Learning\""
   ]
  },
  {
   "cell_type": "code",
   "execution_count": 39,
   "metadata": {},
   "outputs": [],
   "source": [
    "lamb = 1"
   ]
  },
  {
   "cell_type": "markdown",
   "metadata": {},
   "source": [
    "    It is important to start with zero theta, so:"
   ]
  },
  {
   "cell_type": "code",
   "execution_count": 40,
   "metadata": {},
   "outputs": [],
   "source": [
    "Theta = theta_init()"
   ]
  },
  {
   "cell_type": "code",
   "execution_count": 41,
   "metadata": {},
   "outputs": [
    {
     "data": {
      "text/plain": [
       "array([0., 0., 0., 0., 0., 0., 0., 0., 0., 0., 0., 0., 0., 0., 0., 0., 0.,\n",
       "       0., 0., 0., 0., 0., 0., 0., 0., 0., 0., 0.])"
      ]
     },
     "execution_count": 41,
     "metadata": {},
     "output_type": "execute_result"
    }
   ],
   "source": [
    "Theta"
   ]
  },
  {
   "cell_type": "code",
   "execution_count": 42,
   "metadata": {},
   "outputs": [],
   "source": [
    "#Set the number of iterations\n",
    "iterations_list = []\n",
    "cost_list = []\n",
    "previous_cost = 0\n",
    "\n",
    "for i in range(iterations):\n",
    "    Cost_current  = cost(X, Theta, Y, lamb)\n",
    "    Theta = Theta - GDS(X,Theta, Y,lamb,alpha)\n",
    "    \n",
    "    if (abs(Cost_current - previous_cost) <= 0.000000000000000000000000000000000000001):\n",
    "        iteration_break = i\n",
    "        break\n",
    "    else:\n",
    "        cost_list.append(Cost_current)\n",
    "        iterations_list.append(i)\n",
    "        previous_cost = Cost_current"
   ]
  },
  {
   "cell_type": "markdown",
   "metadata": {},
   "source": [
    "# 4. Final Results"
   ]
  },
  {
   "cell_type": "code",
   "execution_count": 43,
   "metadata": {},
   "outputs": [
    {
     "data": {
      "text/plain": [
       "array([ 1.14213154,  1.16717811, -1.26951313, -0.17376423, -1.16315373,\n",
       "       -0.46911873, -0.93200838,  0.6013209 , -0.91570891, -0.34519949,\n",
       "       -0.26931737, -0.28695652, -0.13795885, -1.87174404, -0.36873219,\n",
       "       -0.60641613, -0.28027414, -0.32896735,  0.12668334, -0.04858478,\n",
       "       -0.04320504,  0.01735018, -1.42385895, -0.20708103, -0.29262298,\n",
       "       -0.24309552,  0.02921495, -1.03618113])"
      ]
     },
     "execution_count": 43,
     "metadata": {},
     "output_type": "execute_result"
    }
   ],
   "source": [
    "Theta"
   ]
  },
  {
   "cell_type": "code",
   "execution_count": 44,
   "metadata": {},
   "outputs": [
    {
     "ename": "NameError",
     "evalue": "name 'iteration_break' is not defined",
     "output_type": "error",
     "traceback": [
      "\u001b[0;31m---------------------------------------------------------------------------\u001b[0m",
      "\u001b[0;31mNameError\u001b[0m                                 Traceback (most recent call last)",
      "\u001b[0;32m<ipython-input-44-65feabe03f57>\u001b[0m in \u001b[0;36m<module>\u001b[0;34m()\u001b[0m\n\u001b[0;32m----> 1\u001b[0;31m \u001b[0miteration_break\u001b[0m\u001b[0;34m\u001b[0m\u001b[0m\n\u001b[0m",
      "\u001b[0;31mNameError\u001b[0m: name 'iteration_break' is not defined"
     ]
    }
   ],
   "source": [
    "iteration_break"
   ]
  },
  {
   "cell_type": "markdown",
   "metadata": {},
   "source": [
    "        The code above outputs error because there was no saved value for the iteration_break variable, meaning the loop has gone through all over 2000 iterations with all slight changes."
   ]
  },
  {
   "cell_type": "code",
   "execution_count": 45,
   "metadata": {},
   "outputs": [
    {
     "data": {
      "text/plain": [
       "[0.6931471805599453,\n",
       " 0.6869833192996765,\n",
       " 0.6816317415479448,\n",
       " 0.676878545372207,\n",
       " 0.6725761849965621,\n",
       " 0.6686223921049906,\n",
       " 0.6649456399500481,\n",
       " 0.6614952540064235,\n",
       " 0.6582347345862195,\n",
       " 0.6551372644102014,\n",
       " 0.652182688748615,\n",
       " 0.649355483026774,\n",
       " 0.6466433810932383,\n",
       " 0.6440364453165021,\n",
       " 0.6415264324239687,\n",
       " 0.6391063576773434,\n",
       " 0.6367701924350768,\n",
       " 0.6345126517567298,\n",
       " 0.6323290430793849,\n",
       " 0.6302151565654427,\n",
       " 0.6281671840971405,\n",
       " 0.6261816581469803,\n",
       " 0.6242554045957314,\n",
       " 0.6223855054724968,\n",
       " 0.6205692688678187,\n",
       " 0.6188042041291596,\n",
       " 0.6170880010270104,\n",
       " 0.6154185119716354,\n",
       " 0.6137937366267535,\n",
       " 0.6122118084483986,\n",
       " 0.6106709828023644,\n",
       " 0.6091696264004547,\n",
       " 0.6077062078566018,\n",
       " 0.606279289207093,\n",
       " 0.6048875182702592,\n",
       " 0.6035296217437776,\n",
       " 0.6022043989547965,\n",
       " 0.6009107161911171,\n",
       " 0.5996475015518219,\n",
       " 0.598413740263869,\n",
       " 0.5972084704177759,\n",
       " 0.5960307790810092,\n",
       " 0.5948797987523424,\n",
       " 0.5937547041244097,\n",
       " 0.5926547091251364,\n",
       " 0.5915790642117424,\n",
       " 0.5905270538936596,\n",
       " 0.5894979944630835,\n",
       " 0.5884912319139542,\n",
       " 0.5875061400320553,\n",
       " 0.5865421186405904,\n",
       " 0.5855985919871085,\n",
       " 0.5846750072590033,\n",
       " 0.5837708332160373,\n",
       " 0.5828855589294295,\n",
       " 0.5820186926180538,\n",
       " 0.5811697605731673,\n",
       " 0.5803383061639124,\n",
       " 0.5795238889165543,\n",
       " 0.5787260836610731,\n",
       " 0.5779444797393269,\n",
       " 0.577178680269535,\n",
       " 0.5764283014623127,\n",
       " 0.5756929719839351,\n",
       " 0.5749723323628935,\n",
       " 0.5742660344361712,\n",
       " 0.5735737408319898,\n",
       " 0.5728951244860672,\n",
       " 0.5722298681886981,\n",
       " 0.5715776641602018,\n",
       " 0.5709382136525082,\n",
       " 0.5703112265748416,\n",
       " 0.5696964211416478,\n",
       " 0.5690935235410669,\n",
       " 0.5685022676224056,\n",
       " 0.5679223946011913,\n",
       " 0.5673536527805183,\n",
       " 0.5667957972874987,\n",
       " 0.5662485898237376,\n",
       " 0.5657117984288379,\n",
       " 0.5651851972560257,\n",
       " 0.5646685663590615,\n",
       " 0.5641616914896712,\n",
       " 0.563664363904791,\n",
       " 0.5631763801829825,\n",
       " 0.5626975420494182,\n",
       " 0.5622276562088928,\n",
       " 0.5617665341863526,\n",
       " 0.5613139921744779,\n",
       " 0.5608698508878878,\n",
       " 0.5604339354235714,\n",
       " 0.5600060751271746,\n",
       " 0.5595861034648059,\n",
       " 0.5591738579000454,\n",
       " 0.5587691797758626,\n",
       " 0.5583719142011758,\n",
       " 0.5579819099417982,\n",
       " 0.557599019315538,\n",
       " 0.5572230980912347,\n",
       " 0.5568540053915301,\n",
       " 0.5564916035991803,\n",
       " 0.5561357582667392,\n",
       " 0.5557863380294419,\n",
       " 0.5554432145211383,\n",
       " 0.5551062622931303,\n",
       " 0.5547753587357788,\n",
       " 0.5544503840027519,\n",
       " 0.554131220937798,\n",
       " 0.5538177550039285,\n",
       " 0.5535098742149079,\n",
       " 0.5532074690689511,\n",
       " 0.5529104324845335,\n",
       " 0.5526186597382273,\n",
       " 0.5523320484044808,\n",
       " 0.5520504982972616,\n",
       " 0.5517739114134879,\n",
       " 0.5515021918781818,\n",
       " 0.5512352458912733,\n",
       " 0.5509729816759928,\n",
       " 0.5507153094287969,\n",
       " 0.5504621412707611,\n",
       " 0.5502133912003953,\n",
       " 0.5499689750478223,\n",
       " 0.5497288104302768,\n",
       " 0.5494928167088715,\n",
       " 0.5492609149465923,\n",
       " 0.5490330278674747,\n",
       " 0.5488090798169228,\n",
       " 0.5485889967231341,\n",
       " 0.5483727060595875,\n",
       " 0.5481601368085645,\n",
       " 0.5479512194256665,\n",
       " 0.5477458858052962,\n",
       " 0.5475440692470717,\n",
       " 0.547345704423143,\n",
       " 0.5471507273463834,\n",
       " 0.5469590753394267,\n",
       " 0.5467706870045228,\n",
       " 0.5465855021941903,\n",
       " 0.5464034619826356,\n",
       " 0.5462245086379197,\n",
       " 0.5460485855948477,\n",
       " 0.5458756374285594,\n",
       " 0.5457056098288001,\n",
       " 0.5455384495748512,\n",
       " 0.5453741045111011,\n",
       " 0.5452125235232368,\n",
       " 0.5450536565150398,\n",
       " 0.5448974543857658,\n",
       " 0.5447438690080938,\n",
       " 0.5445928532066279,\n",
       " 0.5444443607369327,\n",
       " 0.5442983462650933,\n",
       " 0.5441547653477782,\n",
       " 0.5440135744127951,\n",
       " 0.5438747307401252,\n",
       " 0.5437381924434214,\n",
       " 0.5436039184519577,\n",
       " 0.5434718684930187,\n",
       " 0.5433420030747154,\n",
       " 0.5432142834692162,\n",
       " 0.543088671696382,\n",
       " 0.5429651305077937,\n",
       " 0.5428436233711627,\n",
       " 0.5427241144551117,\n",
       " 0.5426065686143196,\n",
       " 0.542490951375016,\n",
       " 0.542377228920821,\n",
       " 0.5422653680789153,\n",
       " 0.5421553363065387,\n",
       " 0.5420471016778021,\n",
       " 0.5419406328708086,\n",
       " 0.5418358991550739,\n",
       " 0.5417328703792383,\n",
       " 0.5416315169590645,\n",
       " 0.5415318098657104,\n",
       " 0.5414337206142729,\n",
       " 0.5413372212525941,\n",
       " 0.5412422843503241,\n",
       " 0.5411488829882326,\n",
       " 0.5410569907477641,\n",
       " 0.5409665817008299,\n",
       " 0.5408776303998312,\n",
       " 0.5407901118679069,\n",
       " 0.540704001589402,\n",
       " 0.5406192755005483,\n",
       " 0.5405359099803547,\n",
       " 0.5404538818417011,\n",
       " 0.5403731683226294,\n",
       " 0.5402937470778296,\n",
       " 0.5402155961703129,\n",
       " 0.5401386940632695,\n",
       " 0.5400630196121061,\n",
       " 0.5399885520566579,\n",
       " 0.5399152710135708,\n",
       " 0.5398431564688528,\n",
       " 0.5397721887705835,\n",
       " 0.539702348621787,\n",
       " 0.539633617073456,\n",
       " 0.5395659755177283,\n",
       " 0.5394994056812111,\n",
       " 0.5394338896184484,\n",
       " 0.5393694097055293,\n",
       " 0.5393059486338323,\n",
       " 0.5392434894039057,\n",
       " 0.5391820153194761,\n",
       " 0.5391215099815859,\n",
       " 0.5390619572828553,\n",
       " 0.5390033414018652,\n",
       " 0.5389456467976594,\n",
       " 0.5388888582043629,\n",
       " 0.5388329606259131,\n",
       " 0.5387779393309016,\n",
       " 0.5387237798475242,\n",
       " 0.5386704679586372,\n",
       " 0.5386179896969151,\n",
       " 0.538566331340111,\n",
       " 0.5385154794064138,\n",
       " 0.5384654206499027,\n",
       " 0.5384161420560954,\n",
       " 0.5383676308375874,\n",
       " 0.5383198744297821,\n",
       " 0.5382728604867083,\n",
       " 0.5382265768769229,\n",
       " 0.5381810116794976,\n",
       " 0.5381361531800882,\n",
       " 0.5380919898670836,\n",
       " 0.5380485104278316,\n",
       " 0.5380057037449442,\n",
       " 0.5379635588926742,\n",
       " 0.5379220651333685,\n",
       " 0.5378812119139897,\n",
       " 0.5378409888627105,\n",
       " 0.537801385785573,\n",
       " 0.5377623926632191,\n",
       " 0.5377239996476832,\n",
       " 0.5376861970592495,\n",
       " 0.5376489753833723,\n",
       " 0.5376123252676582,\n",
       " 0.5375762375189065,\n",
       " 0.5375407031002088,\n",
       " 0.5375057131281074,\n",
       " 0.537471258869807,\n",
       " 0.5374373317404435,\n",
       " 0.5374039233004055,\n",
       " 0.5373710252527086,\n",
       " 0.5373386294404205,\n",
       " 0.5373067278441376,\n",
       " 0.5372753125795094,\n",
       " 0.5372443758948118,\n",
       " 0.5372139101685677,\n",
       " 0.5371839079072133,\n",
       " 0.5371543617428096,\n",
       " 0.5371252644307986,\n",
       " 0.5370966088478017,\n",
       " 0.5370683879894623,\n",
       " 0.5370405949683276,\n",
       " 0.5370132230117721,\n",
       " 0.5369862654599622,\n",
       " 0.536959715763857,\n",
       " 0.536933567483249,\n",
       " 0.5369078142848422,\n",
       " 0.5368824499403657,\n",
       " 0.5368574683247239,\n",
       " 0.5368328634141815,\n",
       " 0.5368086292845826,\n",
       " 0.5367847601096044,\n",
       " 0.5367612501590421,\n",
       " 0.5367380937971274,\n",
       " 0.5367152854808789,\n",
       " 0.5366928197584818,\n",
       " 0.5366706912676997,\n",
       " 0.5366488947343147,\n",
       " 0.5366274249705976,\n",
       " 0.536606276873806,\n",
       " 0.5365854454247114,\n",
       " 0.5365649256861516,\n",
       " 0.5365447128016118,\n",
       " 0.5365248019938312,\n",
       " 0.5365051885634365,\n",
       " 0.5364858678875978,\n",
       " 0.5364668354187125,\n",
       " 0.536448086683112,\n",
       " 0.536429617279791,\n",
       " 0.5364114228791629,\n",
       " 0.5363934992218355,\n",
       " 0.5363758421174099,\n",
       " 0.5363584474433017,\n",
       " 0.536341311143584,\n",
       " 0.5363244292278493,\n",
       " 0.5363077977700955,\n",
       " 0.5362914129076293,\n",
       " 0.5362752708399904,\n",
       " 0.5362593678278962,\n",
       " 0.5362437001922032,\n",
       " 0.5362282643128901,\n",
       " 0.5362130566280568,\n",
       " 0.5361980736329425,\n",
       " 0.5361833118789614,\n",
       " 0.5361687679727554,\n",
       " 0.5361544385752645,\n",
       " 0.5361403204008127,\n",
       " 0.5361264102162112,\n",
       " 0.536112704839877,\n",
       " 0.536099201140968,\n",
       " 0.5360858960385325,\n",
       " 0.536072786500674,\n",
       " 0.5360598695437324,\n",
       " 0.5360471422314771,\n",
       " 0.5360346016743159,\n",
       " 0.536022245028519,\n",
       " 0.5360100694954536,\n",
       " 0.5359980723208355,\n",
       " 0.5359862507939908,\n",
       " 0.535974602247133,\n",
       " 0.5359631240546517,\n",
       " 0.5359518136324132,\n",
       " 0.5359406684370748,\n",
       " 0.53592968596541,\n",
       " 0.5359188637536462,\n",
       " 0.5359081993768129,\n",
       " 0.5358976904481028,\n",
       " 0.5358873346182429,\n",
       " 0.5358771295748767,\n",
       " 0.5358670730419574,\n",
       " 0.5358571627791517,\n",
       " 0.5358473965812537,\n",
       " 0.5358377722776086,\n",
       " 0.5358282877315478,\n",
       " 0.5358189408398313,\n",
       " 0.5358097295321024,\n",
       " 0.5358006517703502,\n",
       " 0.5357917055483812,\n",
       " 0.5357828888913013,\n",
       " 0.5357741998550055,\n",
       " 0.5357656365256765,\n",
       " 0.5357571970192928,\n",
       " 0.5357488794811439,\n",
       " 0.535740682085355,\n",
       " 0.5357326030344187,\n",
       " 0.535724640558736,\n",
       " 0.5357167929161637,\n",
       " 0.5357090583915708,\n",
       " 0.535701435296401,\n",
       " 0.5356939219682444,\n",
       " 0.5356865167704153,\n",
       " 0.5356792180915368,\n",
       " 0.5356720243451337,\n",
       " 0.5356649339692314,\n",
       " 0.5356579454259618,\n",
       " 0.5356510572011756,\n",
       " 0.5356442678040618,\n",
       " 0.5356375757667732,\n",
       " 0.5356309796440579,\n",
       " 0.5356244780128971,\n",
       " 0.5356180694721501,\n",
       " 0.5356117526422031,\n",
       " 0.5356055261646263,\n",
       " 0.5355993887018348,\n",
       " 0.535593338936756,\n",
       " 0.535587375572503,\n",
       " 0.5355814973320524,\n",
       " 0.5355757029579286,\n",
       " 0.5355699912118916,\n",
       " 0.5355643608746329,\n",
       " 0.5355588107454733,\n",
       " 0.5355533396420682,\n",
       " 0.5355479464001158,\n",
       " 0.5355426298730718,\n",
       " 0.5355373889318679,\n",
       " 0.5355322224646349,\n",
       " 0.5355271293764315,\n",
       " 0.5355221085889756,\n",
       " 0.5355171590403824,\n",
       " 0.5355122796849043,\n",
       " 0.5355074694926774,\n",
       " 0.5355027274494709,\n",
       " 0.5354980525564405,\n",
       " 0.535493443829887,\n",
       " 0.5354889003010173,\n",
       " 0.5354844210157105,\n",
       " 0.5354800050342874,\n",
       " 0.5354756514312842,\n",
       " 0.5354713592952287,\n",
       " 0.535467127728422,\n",
       " 0.5354629558467218,\n",
       " 0.535458842779331,\n",
       " 0.5354547876685883,\n",
       " 0.5354507896697637,\n",
       " 0.5354468479508553,\n",
       " 0.5354429616923917,\n",
       " 0.5354391300872358,\n",
       " 0.5354353523403931,\n",
       " 0.5354316276688218,\n",
       " 0.5354279553012473,\n",
       " 0.5354243344779787,\n",
       " 0.5354207644507288,\n",
       " 0.5354172444824372,\n",
       " 0.5354137738470951,\n",
       " 0.5354103518295747,\n",
       " 0.5354069777254596,\n",
       " 0.5354036508408799,\n",
       " 0.5354003704923471,\n",
       " 0.5353971360065949,\n",
       " 0.5353939467204203,\n",
       " 0.5353908019805284,\n",
       " 0.5353877011433784,\n",
       " 0.5353846435750345,\n",
       " 0.5353816286510158,\n",
       " 0.5353786557561518,\n",
       " 0.5353757242844384,\n",
       " 0.5353728336388965,\n",
       " 0.5353699832314338,\n",
       " 0.5353671724827065,\n",
       " 0.5353644008219866,\n",
       " 0.5353616676870278,\n",
       " 0.5353589725239365,\n",
       " 0.5353563147870429,\n",
       " 0.535353693938775,\n",
       " 0.535351109449534,\n",
       " 0.5353485607975726,\n",
       " 0.535346047468875,\n",
       " 0.5353435689570374,\n",
       " 0.5353411247631527,\n",
       " 0.5353387143956952,\n",
       " 0.5353363373704082,\n",
       " 0.5353339932101926,\n",
       " 0.5353316814449979,\n",
       " 0.5353294016117142,\n",
       " 0.535327153254067,\n",
       " 0.5353249359225128,\n",
       " 0.5353227491741365,\n",
       " 0.5353205925725502,\n",
       " 0.5353184656877942,\n",
       " 0.5353163680962396,\n",
       " 0.5353142993804914,\n",
       " 0.5353122591292939,\n",
       " 0.5353102469374382,\n",
       " 0.5353082624056695,\n",
       " 0.5353063051405972,\n",
       " 0.5353043747546062,\n",
       " 0.5353024708657694,\n",
       " 0.535300593097761,\n",
       " 0.5352987410797723,\n",
       " 0.5352969144464281,\n",
       " 0.5352951128377043,\n",
       " 0.5352933358988475,\n",
       " 0.5352915832802952,\n",
       " 0.5352898546375973,\n",
       " 0.5352881496313387,\n",
       " 0.5352864679270645,\n",
       " 0.5352848091952036,\n",
       " 0.5352831731109969,\n",
       " 0.5352815593544231,\n",
       " 0.5352799676101291,\n",
       " 0.5352783975673583,\n",
       " 0.535276848919882,\n",
       " 0.5352753213659323,\n",
       " 0.5352738146081336,\n",
       " 0.5352723283534379,\n",
       " 0.5352708623130586,\n",
       " 0.5352694162024083,\n",
       " 0.5352679897410341,\n",
       " 0.5352665826525567,\n",
       " 0.5352651946646094,\n",
       " 0.5352638255087774,\n",
       " 0.5352624749205394,\n",
       " 0.5352611426392088,\n",
       " 0.5352598284078769,\n",
       " 0.5352585319733563,\n",
       " 0.5352572530861247,\n",
       " 0.5352559915002715,\n",
       " 0.5352547469734426,\n",
       " 0.5352535192667882,\n",
       " 0.5352523081449105,\n",
       " 0.535251113375812,\n",
       " 0.5352499347308448,\n",
       " 0.5352487719846614,\n",
       " 0.5352476249151648,\n",
       " 0.5352464933034606,\n",
       " 0.5352453769338095,\n",
       " 0.5352442755935805,\n",
       " 0.5352431890732038,\n",
       " 0.535242117166127,\n",
       " 0.5352410596687691,\n",
       " 0.5352400163804765,\n",
       " 0.5352389871034805,\n",
       " 0.5352379716428538,\n",
       " 0.5352369698064686,\n",
       " 0.5352359814049552,\n",
       " 0.5352350062516613,\n",
       " 0.5352340441626119,\n",
       " 0.535233094956469,\n",
       " 0.5352321584544941,\n",
       " 0.5352312344805082,\n",
       " 0.5352303228608553,\n",
       " 0.5352294234243643,\n",
       " 0.535228536002313,\n",
       " 0.5352276604283918,\n",
       " 0.5352267965386677,\n",
       " 0.5352259441715499,\n",
       " 0.5352251031677555,\n",
       " 0.5352242733702747,\n",
       " 0.535223454624338,\n",
       " 0.5352226467773833,\n",
       " 0.535221849679023,\n",
       " 0.5352210631810127,\n",
       " 0.5352202871372191,\n",
       " 0.5352195214035896,\n",
       " 0.5352187658381216,\n",
       " 0.5352180203008318,\n",
       " 0.5352172846537276,\n",
       " 0.5352165587607778,\n",
       " 0.5352158424878829,\n",
       " 0.5352151357028483,\n",
       " 0.5352144382753552,\n",
       " 0.5352137500769336,\n",
       " 0.5352130709809358,\n",
       " 0.535212400862509,\n",
       " 0.5352117395985689,\n",
       " 0.5352110870677756,\n",
       " 0.535210443150506,\n",
       " 0.5352098077288299,\n",
       " 0.5352091806864853,\n",
       " 0.5352085619088538,\n",
       " 0.5352079512829367,\n",
       " 0.5352073486973319,\n",
       " 0.5352067540422097,\n",
       " 0.5352061672092912,\n",
       " 0.5352055880918241,\n",
       " 0.5352050165845624,\n",
       " 0.5352044525837432,\n",
       " 0.5352038959870654,\n",
       " 0.535203346693669,\n",
       " 0.5352028046041135,\n",
       " 0.5352022696203577,\n",
       " 0.5352017416457396,\n",
       " 0.5352012205849557,\n",
       " 0.5352007063440425,\n",
       " 0.5352001988303555,\n",
       " 0.535199697952552,\n",
       " 0.5351992036205702,\n",
       " 0.5351987157456127,\n",
       " 0.5351982342401267,\n",
       " 0.5351977590177868,\n",
       " 0.5351972899934772,\n",
       " 0.5351968270832737,\n",
       " 0.5351963702044272,\n",
       " 0.5351959192753466,\n",
       " 0.5351954742155818,\n",
       " 0.5351950349458072,\n",
       " 0.5351946013878062,\n",
       " 0.5351941734644543,\n",
       " 0.5351937510997042,\n",
       " 0.5351933342185697,\n",
       " 0.5351929227471109,\n",
       " 0.5351925166124187,\n",
       " 0.5351921157426003,\n",
       " 0.5351917200667647,\n",
       " 0.5351913295150079,\n",
       " 0.5351909440183992,\n",
       " 0.5351905635089668,\n",
       " 0.5351901879196843,\n",
       " 0.5351898171844574,\n",
       " 0.5351894512381099,\n",
       " 0.535189090016371,\n",
       " 0.5351887334558624,\n",
       " 0.5351883814940852,\n",
       " 0.535188034069408,\n",
       " 0.5351876911210527,\n",
       " 0.5351873525890853,\n",
       " 0.5351870184144008,\n",
       " 0.5351866885387134,\n",
       " 0.5351863629045438,\n",
       " 0.5351860414552081,\n",
       " 0.5351857241348065,\n",
       " 0.5351854108882115,\n",
       " 0.5351851016610577,\n",
       " 0.5351847963997308,\n",
       " 0.5351844950513565,\n",
       " 0.5351841975637898,\n",
       " 0.5351839038856055,\n",
       " 0.5351836139660874,\n",
       " 0.5351833277552182,\n",
       " 0.5351830452036694,\n",
       " 0.5351827662627924,\n",
       " 0.5351824908846075,\n",
       " 0.5351822190217954,\n",
       " 0.5351819506276877,\n",
       " 0.5351816856562572,\n",
       " 0.5351814240621094,\n",
       " 0.5351811658004733,\n",
       " 0.5351809108271922,\n",
       " 0.5351806590987154,\n",
       " 0.5351804105720899,\n",
       " 0.5351801652049512,\n",
       " 0.5351799229555155,\n",
       " 0.5351796837825714,\n",
       " 0.5351794476454719,\n",
       " 0.5351792145041259,\n",
       " 0.535178984318991,\n",
       " 0.5351787570510659,\n",
       " 0.5351785326618815,\n",
       " 0.5351783111134951,\n",
       " 0.5351780923684816,\n",
       " 0.535177876389927,\n",
       " 0.535177663141421,\n",
       " 0.5351774525870497,\n",
       " 0.535177244691389,\n",
       " 0.5351770394194972,\n",
       " 0.5351768367369087,\n",
       " 0.5351766366096271,\n",
       " 0.5351764390041187,\n",
       " 0.5351762438873057,\n",
       " 0.5351760512265601,\n",
       " 0.5351758609896975,\n",
       " 0.5351756731449704,\n",
       " 0.5351754876610627,\n",
       " 0.5351753045070828,\n",
       " 0.535175123652559,\n",
       " 0.5351749450674319,\n",
       " 0.5351747687220499,\n",
       " 0.5351745945871634,\n",
       " 0.5351744226339185,\n",
       " 0.5351742528338518,\n",
       " 0.5351740851588852,\n",
       " 0.5351739195813203,\n",
       " 0.5351737560738332,\n",
       " 0.5351735946094691,\n",
       " 0.535173435161637,\n",
       " 0.5351732777041052,\n",
       " 0.5351731222109958,\n",
       " 0.5351729686567799,\n",
       " 0.5351728170162728,\n",
       " 0.5351726672646294,\n",
       " 0.5351725193773387,\n",
       " 0.5351723733302203,\n",
       " 0.5351722290994185,\n",
       " 0.5351720866613994,\n",
       " 0.5351719459929445,\n",
       " 0.5351718070711482,\n",
       " 0.5351716698734119,\n",
       " 0.535171534377441,\n",
       " 0.5351714005612396,\n",
       " 0.5351712684031074,\n",
       " 0.5351711378816343,\n",
       " 0.5351710089756981,\n",
       " 0.5351708816644588,\n",
       " 0.5351707559273557,\n",
       " 0.5351706317441035,\n",
       " 0.5351705090946879,\n",
       " 0.5351703879593624,\n",
       " 0.5351702683186446,\n",
       " 0.5351701501533119,\n",
       " 0.5351700334443992,\n",
       " 0.5351699181731937,\n",
       " 0.5351698043212326,\n",
       " 0.5351696918702995,\n",
       " 0.5351695808024204,\n",
       " 0.5351694710998611,\n",
       " 0.5351693627451235,\n",
       " 0.5351692557209422,\n",
       " 0.535169150010282,\n",
       " 0.5351690455963336,\n",
       " 0.5351689424625115,\n",
       " 0.5351688405924506,\n",
       " 0.5351687399700031,\n",
       " 0.5351686405792355,\n",
       " 0.5351685424044258,\n",
       " 0.5351684454300601,\n",
       " 0.5351683496408308,\n",
       " 0.5351682550216326,\n",
       " 0.5351681615575605,\n",
       " 0.5351680692339068,\n",
       " 0.5351679780361581,\n",
       " 0.5351678879499935,\n",
       " 0.5351677989612809,\n",
       " 0.535167711056075,\n",
       " 0.5351676242206149,\n",
       " 0.5351675384413213,\n",
       " 0.5351674537047939,\n",
       " 0.5351673699978093,\n",
       " 0.5351672873073184,\n",
       " 0.5351672056204437,\n",
       " 0.5351671249244779,\n",
       " 0.5351670452068803,\n",
       " 0.5351669664552758,\n",
       " 0.5351668886574515,\n",
       " 0.5351668118013558,\n",
       " 0.5351667358750946,\n",
       " 0.5351666608669302,\n",
       " 0.5351665867652796,\n",
       " 0.5351665135587109,\n",
       " 0.5351664412359429,\n",
       " 0.5351663697858418,\n",
       " 0.5351662991974196,\n",
       " 0.5351662294598325,\n",
       " 0.5351661605623785,\n",
       " 0.5351660924944958,\n",
       " 0.5351660252457601,\n",
       " 0.5351659588058842,\n",
       " 0.5351658931647149,\n",
       " 0.5351658283122314,\n",
       " 0.5351657642385438,\n",
       " 0.5351657009338915,\n",
       " 0.535165638388641,\n",
       " 0.5351655765932842,\n",
       " 0.535165515538437,\n",
       " 0.5351654552148376,\n",
       " 0.5351653956133445,\n",
       " 0.5351653367249354,\n",
       " 0.5351652785407051,\n",
       " 0.535165221051864,\n",
       " 0.5351651642497373,\n",
       " 0.535165108125762,\n",
       " 0.5351650526714868,\n",
       " 0.53516499787857,\n",
       " 0.5351649437387777,\n",
       " 0.535164890243983,\n",
       " 0.535164837386164,\n",
       " 0.5351647851574032,\n",
       " 0.5351647335498849,\n",
       " 0.535164682555895,\n",
       " 0.5351646321678186,\n",
       " 0.5351645823781398,\n",
       " 0.5351645331794391,\n",
       " 0.5351644845643937,\n",
       " 0.5351644365257743,\n",
       " 0.5351643890564453,\n",
       " 0.535164342149363,\n",
       " 0.535164295797575,\n",
       " 0.5351642499942171,\n",
       " 0.5351642047325149,\n",
       " 0.5351641600057804,\n",
       " 0.5351641158074115,\n",
       " 0.5351640721308915,\n",
       " 0.5351640289697869,\n",
       " 0.5351639863177471,\n",
       " 0.535163944168503,\n",
       " 0.5351639025158657,\n",
       " 0.5351638613537256,\n",
       " 0.535163820676052,\n",
       " 0.5351637804768907,\n",
       " 0.5351637407503642,\n",
       " 0.53516370149067,\n",
       " 0.53516366269208,\n",
       " 0.535163624348939,\n",
       " 0.5351635864556645,\n",
       " 0.5351635490067449,\n",
       " 0.5351635119967392,\n",
       " 0.5351634754202756,\n",
       " 0.5351634392720512,\n",
       " 0.5351634035468301,\n",
       " 0.5351633682394438,\n",
       " 0.5351633333447888,\n",
       " 0.5351632988578274,\n",
       " 0.5351632647735856,\n",
       " 0.5351632310871521,\n",
       " 0.5351631977936793,\n",
       " 0.5351631648883798,\n",
       " 0.5351631323665279,\n",
       " 0.5351631002234576,\n",
       " 0.535163068454562,\n",
       " 0.5351630370552924,\n",
       " 0.5351630060211584,\n",
       " 0.5351629753477258,\n",
       " 0.5351629450306168,\n",
       " 0.5351629150655091,\n",
       " 0.5351628854481347,\n",
       " 0.5351628561742799,\n",
       " 0.5351628272397843,\n",
       " 0.5351627986405395,\n",
       " 0.5351627703724895,\n",
       " 0.5351627424316291,\n",
       " 0.5351627148140039,\n",
       " 0.5351626875157091,\n",
       " 0.5351626605328892,\n",
       " 0.5351626338617371,\n",
       " 0.5351626074984939,\n",
       " 0.5351625814394474,\n",
       " 0.5351625556809326,\n",
       " 0.5351625302193307,\n",
       " 0.5351625050510678,\n",
       " 0.5351624801726149,\n",
       " 0.5351624555804877,\n",
       " 0.5351624312712452,\n",
       " 0.5351624072414896,\n",
       " 0.535162383487866,\n",
       " 0.535162360007061,\n",
       " 0.5351623367958029,\n",
       " 0.535162313850861,\n",
       " 0.5351622911690448,\n",
       " 0.5351622687472037,\n",
       " 0.535162246582227,\n",
       " 0.5351622246710416,\n",
       " 0.5351622030106138,\n",
       " 0.5351621815979475,\n",
       " 0.5351621604300838,\n",
       " 0.5351621395041005,\n",
       " 0.5351621188171123,\n",
       " 0.5351620983662692,\n",
       " 0.5351620781487569,\n",
       " 0.5351620581617964,\n",
       " 0.5351620384026428,\n",
       " 0.5351620188685854,\n",
       " 0.5351619995569472,\n",
       " 0.5351619804650846,\n",
       " 0.5351619615903862,\n",
       " 0.5351619429302737,\n",
       " 0.5351619244822002,\n",
       " 0.5351619062436505,\n",
       " 0.5351618882121406,\n",
       " 0.5351618703852172,\n",
       " 0.5351618527604572,\n",
       " 0.5351618353354677,\n",
       " 0.535161818107885,\n",
       " 0.5351618010753749,\n",
       " 0.5351617842356319,\n",
       " 0.5351617675863786,\n",
       " 0.5351617511253662,\n",
       " 0.5351617348503734,\n",
       " 0.5351617187592062,\n",
       " 0.5351617028496974,\n",
       " 0.5351616871197069,\n",
       " 0.5351616715671207,\n",
       " 0.5351616561898506,\n",
       " 0.5351616409858342,\n",
       " 0.5351616259530345,\n",
       " 0.5351616110894393,\n",
       " 0.5351615963930614,\n",
       " 0.5351615818619375,\n",
       " 0.5351615674941286,\n",
       " 0.5351615532877196,\n",
       " 0.5351615392408187,\n",
       " 0.5351615253515567,\n",
       " 0.5351615116180883,\n",
       " 0.53516149803859,\n",
       " 0.5351614846112608,\n",
       " 0.5351614713343216,\n",
       " 0.535161458206015,\n",
       " 0.5351614452246052,\n",
       " 0.5351614323883773,\n",
       " 0.5351614196956376,\n",
       " 0.5351614071447126,\n",
       " 0.5351613947339496,\n",
       " 0.535161382461716,\n",
       " 0.5351613703263984,\n",
       " 0.5351613583264038,\n",
       " 0.535161346460158,\n",
       " 0.5351613347261063,\n",
       " 0.5351613231227126,\n",
       " 0.5351613116484594,\n",
       " 0.5351613003018477,\n",
       " 0.5351612890813968,\n",
       " 0.5351612779856438,\n",
       " 0.5351612670131431,\n",
       " 0.5351612561624673,\n",
       " 0.535161245432206,\n",
       " 0.5351612348209653,\n",
       " 0.535161224327369,\n",
       " 0.535161213950057,\n",
       " 0.5351612036876856,\n",
       " 0.5351611935389275,\n",
       " 0.5351611835024712,\n",
       " 0.5351611735770212,\n",
       " 0.5351611637612974,\n",
       " 0.5351611540540352,\n",
       " 0.5351611444539852,\n",
       " 0.535161134959913,\n",
       " 0.5351611255705991,\n",
       " 0.5351611162848386,\n",
       " 0.535161107101441,\n",
       " 0.5351610980192303,\n",
       " 0.5351610890370442,\n",
       " 0.5351610801537346,\n",
       " 0.5351610713681672,\n",
       " 0.535161062679221,\n",
       " 0.5351610540857891,\n",
       " 0.5351610455867767,\n",
       " 0.5351610371811031,\n",
       " 0.5351610288677,\n",
       " 0.5351610206455121,\n",
       " 0.5351610125134966,\n",
       " 0.5351610044706229,\n",
       " 0.5351609965158731,\n",
       " 0.5351609886482411,\n",
       " 0.5351609808667332,\n",
       " 0.535160973170367,\n",
       " 0.535160965558172,\n",
       " 0.5351609580291896,\n",
       " 0.5351609505824719,\n",
       " 0.5351609432170829,\n",
       " 0.5351609359320971,\n",
       " 0.5351609287266007,\n",
       " 0.5351609215996904,\n",
       " 0.5351609145504732,\n",
       " 0.5351609075780672,\n",
       " 0.5351609006816012,\n",
       " 0.5351608938602133,\n",
       " 0.5351608871130528,\n",
       " 0.5351608804392785,\n",
       " 0.5351608738380595,\n",
       " 0.5351608673085744,\n",
       " 0.5351608608500116,\n",
       " 0.5351608544615691,\n",
       " 0.5351608481424545,\n",
       " 0.5351608418918844,\n",
       " 0.535160835709085,\n",
       " 0.5351608295932915,\n",
       " 0.5351608235437478,\n",
       " 0.5351608175597072,\n",
       " 0.5351608116404315,\n",
       " 0.535160805785191,\n",
       " 0.5351607999932649,\n",
       " 0.5351607942639409,\n",
       " 0.5351607885965146,\n",
       " 0.5351607829902904,\n",
       " 0.5351607774445805,\n",
       " 0.5351607719587053,\n",
       " 0.535160766531993,\n",
       " 0.53516076116378,\n",
       " 0.5351607558534102,\n",
       " 0.535160750600235,\n",
       " 0.5351607454036141,\n",
       " 0.5351607402629137,\n",
       " 0.5351607351775083,\n",
       " 0.5351607301467789,\n",
       " 0.5351607251701144,\n",
       " 0.5351607202469105,\n",
       " 0.5351607153765697,\n",
       " 0.5351607105585021,\n",
       " 0.5351607057921242,\n",
       " 0.5351607010768591,\n",
       " 0.5351606964121374,\n",
       " 0.5351606917973954,\n",
       " 0.5351606872320767,\n",
       " 0.5351606827156307,\n",
       " 0.5351606782475137,\n",
       " 0.535160673827188,\n",
       " 0.5351606694541224,\n",
       " 0.5351606651277917,\n",
       " 0.5351606608476767,\n",
       " 0.5351606566132643,\n",
       " 0.5351606524240474,\n",
       " 0.5351606482795247,\n",
       " 0.5351606441792007,\n",
       " 0.5351606401225857,\n",
       " 0.5351606361091954,\n",
       " 0.5351606321385515,\n",
       " 0.5351606282101807,\n",
       " 0.5351606243236157,\n",
       " 0.5351606204783942,\n",
       " 0.5351606166740593,\n",
       " 0.5351606129101596,\n",
       " 0.5351606091862485,\n",
       " 0.5351606055018849,\n",
       " 0.5351606018566326,\n",
       " 0.5351605982500603,\n",
       " 0.5351605946817419,\n",
       " 0.5351605911512561,\n",
       " 0.5351605876581863,\n",
       " 0.5351605842021208,\n",
       " 0.5351605807826526,\n",
       " 0.5351605773993794,\n",
       " 0.5351605740519034,\n",
       " 0.5351605707398316,\n",
       " 0.5351605674627752,\n",
       " 0.5351605642203499,\n",
       " 0.5351605610121758,\n",
       " 0.5351605578378776,\n",
       " 0.5351605546970839,\n",
       " 0.5351605515894279,\n",
       " 0.5351605485145465,\n",
       " 0.5351605454720814,\n",
       " 0.5351605424616778,\n",
       " 0.5351605394829851,\n",
       " 0.535160536535657,\n",
       " 0.5351605336193506,\n",
       " 0.5351605307337274,\n",
       " 0.5351605278784524,\n",
       " 0.5351605250531947,\n",
       " 0.5351605222576268,\n",
       " 0.5351605194914253,\n",
       " 0.5351605167542701,\n",
       " 0.5351605140458452,\n",
       " 0.5351605113658375,\n",
       " 0.5351605087139382,\n",
       " 0.5351605060898413,\n",
       " 0.535160503493245,\n",
       " 0.5351605009238501,\n",
       " 0.5351604983813616,\n",
       " 0.5351604958654872,\n",
       " 0.5351604933759381,\n",
       " 0.5351604909124289,\n",
       " 0.5351604884746771,\n",
       " 0.535160486062404,\n",
       " 0.5351604836753332,\n",
       " 0.5351604813131922,\n",
       " 0.535160478975711,\n",
       " 0.5351604766626228,\n",
       " ...]"
      ]
     },
     "execution_count": 45,
     "metadata": {},
     "output_type": "execute_result"
    }
   ],
   "source": [
    "cost_list"
   ]
  },
  {
   "cell_type": "code",
   "execution_count": 46,
   "metadata": {},
   "outputs": [
    {
     "data": {
      "text/plain": [
       "2000"
      ]
     },
     "execution_count": 46,
     "metadata": {},
     "output_type": "execute_result"
    }
   ],
   "source": [
    "len(iterations_list)"
   ]
  },
  {
   "cell_type": "markdown",
   "metadata": {},
   "source": [
    "## 4.1 Cost and Alpha value"
   ]
  },
  {
   "cell_type": "code",
   "execution_count": 47,
   "metadata": {},
   "outputs": [
    {
     "data": {
      "text/plain": [
       "[<matplotlib.lines.Line2D at 0x7f7e391b80f0>]"
      ]
     },
     "execution_count": 47,
     "metadata": {},
     "output_type": "execute_result"
    },
    {
     "data": {
      "image/png": "[encoded data removed]",
      "text/plain": [
       "<Figure size 864x648 with 1 Axes>"
      ]
     },
     "metadata": {},
     "output_type": "display_data"
    }
   ],
   "source": [
    "plt.plot(iterations_list, cost_list, 'g')"
   ]
  },
  {
   "cell_type": "markdown",
   "metadata": {},
   "source": [
    "        Try to change the value of alpha to see how it accelerates the Cost function (the learning curve). The most appropriate that has been found was 0.5."
   ]
  },
  {
   "cell_type": "markdown",
   "metadata": {},
   "source": [
    "## 4.2 Updated Hypothesis Function"
   ]
  },
  {
   "cell_type": "code",
   "execution_count": 48,
   "metadata": {},
   "outputs": [
    {
     "data": {
      "text/plain": [
       "array([ 1.14213154,  1.16717811, -1.26951313, -0.17376423, -1.16315373,\n",
       "       -0.46911873, -0.93200838,  0.6013209 , -0.91570891, -0.34519949,\n",
       "       -0.26931737, -0.28695652, -0.13795885, -1.87174404, -0.36873219,\n",
       "       -0.60641613, -0.28027414, -0.32896735,  0.12668334, -0.04858478,\n",
       "       -0.04320504,  0.01735018, -1.42385895, -0.20708103, -0.29262298,\n",
       "       -0.24309552,  0.02921495, -1.03618113])"
      ]
     },
     "execution_count": 48,
     "metadata": {},
     "output_type": "execute_result"
    }
   ],
   "source": [
    "Theta"
   ]
  },
  {
   "cell_type": "code",
   "execution_count": 49,
   "metadata": {},
   "outputs": [
    {
     "data": {
      "text/plain": [
       "(28,)"
      ]
     },
     "execution_count": 49,
     "metadata": {},
     "output_type": "execute_result"
    }
   ],
   "source": [
    "Theta.shape"
   ]
  },
  {
   "cell_type": "code",
   "execution_count": 50,
   "metadata": {},
   "outputs": [],
   "source": [
    "H_after = sigmoid(X, Theta)"
   ]
  },
  {
   "cell_type": "code",
   "execution_count": 51,
   "metadata": {},
   "outputs": [
    {
     "data": {
      "text/plain": [
       "array([0.68665358, 0.70643403, 0.68945992, 0.71638253, 0.63905425,\n",
       "       0.60726404, 0.64791328, 0.6105216 , 0.6128366 , 0.56204595,\n",
       "       0.52098767, 0.50624134, 0.56532892, 0.46906238, 0.61602946,\n",
       "       0.69935015, 0.7608509 , 0.55406664, 0.68983175, 0.61756565,\n",
       "       0.51782778, 0.52195714, 0.47542822, 0.50000289, 0.58184793,\n",
       "       0.49887134, 0.52234157, 0.39124905, 0.76617201, 0.58450453,\n",
       "       0.2458584 , 0.57895193, 0.72317115, 0.7518891 , 0.72341049,\n",
       "       0.69320048, 0.63173144, 0.69562143, 0.72262636, 0.63237749,\n",
       "       0.70611919, 0.67777255, 0.58666508, 0.72389669, 0.62801512,\n",
       "       0.66253838, 0.41393926, 0.75529215, 0.55131805, 0.60664587,\n",
       "       0.75141646, 0.79500319, 0.7681277 , 0.77322691, 0.75515255,\n",
       "       0.67130249, 0.70936848, 0.6401429 , 0.23883679, 0.53609754,\n",
       "       0.6845891 , 0.36371244, 0.28584918, 0.46733266, 0.30479095,\n",
       "       0.10701566, 0.31045266, 0.10234125, 0.13847271, 0.26842247,\n",
       "       0.19453747, 0.23630583, 0.21209721, 0.23860944, 0.27780036,\n",
       "       0.45605105, 0.59476192, 0.51446224, 0.3233074 , 0.32314593,\n",
       "       0.51285172, 0.54328126, 0.42318914, 0.52794945, 0.18905116,\n",
       "       0.35806691, 0.3318131 , 0.34375854, 0.61490059, 0.31019152,\n",
       "       0.27144838, 0.50922944, 0.58194402, 0.31890604, 0.18490281,\n",
       "       0.02892357, 0.01765295, 0.34308416, 0.06683008, 0.10321123,\n",
       "       0.32290007, 0.01688298, 0.47103147, 0.34350323, 0.58712626,\n",
       "       0.42885621, 0.53551824, 0.67045102, 0.42601003, 0.29936479,\n",
       "       0.26055328, 0.27461122, 0.21304243, 0.37857508, 0.56013381,\n",
       "       0.12310248, 0.15719212, 0.61596673])"
      ]
     },
     "execution_count": 51,
     "metadata": {},
     "output_type": "execute_result"
    }
   ],
   "source": [
    "H_after"
   ]
  },
  {
   "cell_type": "markdown",
   "metadata": {},
   "source": [
    "## 4.3 Accuracy "
   ]
  },
  {
   "cell_type": "markdown",
   "metadata": {},
   "source": [
    "        The accuracy has been found with the help of numpy functions ('>=' and '==' conditionals and np.mean() method which outputs how many of True statements are there from total."
   ]
  },
  {
   "cell_type": "code",
   "execution_count": 52,
   "metadata": {},
   "outputs": [],
   "source": [
    "H_class_1 = (H_after >= 0.5)"
   ]
  },
  {
   "cell_type": "code",
   "execution_count": 53,
   "metadata": {},
   "outputs": [],
   "source": [
    "Y_class_1 = (Y == 1)"
   ]
  },
  {
   "cell_type": "code",
   "execution_count": 54,
   "metadata": {},
   "outputs": [
    {
     "data": {
      "text/plain": [
       "82.20338983050848"
      ]
     },
     "execution_count": 54,
     "metadata": {},
     "output_type": "execute_result"
    }
   ],
   "source": [
    "np.mean(H_class_1 == Y_class_1) * 100"
   ]
  },
  {
   "cell_type": "markdown",
   "metadata": {},
   "source": [
    "## 4.3.1 Table of Results"
   ]
  },
  {
   "cell_type": "code",
   "execution_count": 55,
   "metadata": {},
   "outputs": [],
   "source": [
    "import pandas as pd"
   ]
  },
  {
   "cell_type": "code",
   "execution_count": 56,
   "metadata": {},
   "outputs": [],
   "source": [
    "alpha_list = [0.1, 0.01, 0.3, 0.03, 0.5, 0.05]"
   ]
  },
  {
   "cell_type": "code",
   "execution_count": 57,
   "metadata": {},
   "outputs": [],
   "source": [
    "lamb_list = [1, 0, 100]"
   ]
  },
  {
   "cell_type": "code",
   "execution_count": 58,
   "metadata": {},
   "outputs": [],
   "source": [
    "accuracy_list = [83.05084745762711, 81.35593220338984, 60.16949152542372]"
   ]
  },
  {
   "cell_type": "code",
   "execution_count": 59,
   "metadata": {},
   "outputs": [],
   "source": [
    "meaning = [\"Desired\", \"No regularization (Overfitting)\", \"Too much regularization (Underfitting)\"]"
   ]
  },
  {
   "cell_type": "code",
   "execution_count": 60,
   "metadata": {},
   "outputs": [
    {
     "data": {
      "text/plain": [
       "1.1671781051740484"
      ]
     },
     "execution_count": 60,
     "metadata": {},
     "output_type": "execute_result"
    }
   ],
   "source": [
    "np.max(Theta)"
   ]
  },
  {
   "cell_type": "code",
   "execution_count": 61,
   "metadata": {},
   "outputs": [],
   "source": [
    "theta_mean = [-0.3324143715569239, -0.015543186291137713, -0.015543186291137713]\n",
    "theta_max = [1.1232514267929568, 2.0236760156404943,0.00641955797494988]"
   ]
  },
  {
   "cell_type": "code",
   "execution_count": 62,
   "metadata": {},
   "outputs": [],
   "source": [
    "table = []\n",
    "table.append(lamb_list)\n",
    "table.append(accuracy_list)\n",
    "table.append(meaning)\n",
    "table.append(theta_mean)\n",
    "table.append(theta_max)"
   ]
  },
  {
   "cell_type": "code",
   "execution_count": 63,
   "metadata": {},
   "outputs": [],
   "source": [
    "table_np = np.array(table)"
   ]
  },
  {
   "cell_type": "code",
   "execution_count": 64,
   "metadata": {},
   "outputs": [],
   "source": [
    "main = table_np.T"
   ]
  },
  {
   "cell_type": "code",
   "execution_count": 65,
   "metadata": {},
   "outputs": [],
   "source": [
    "df = pd.DataFrame(main, columns = ['Lambda', 'Accuracy', 'Meaning', 'Mean of Theta', 'Max of Theta'])"
   ]
  },
  {
   "cell_type": "code",
   "execution_count": 66,
   "metadata": {},
   "outputs": [
    {
     "data": {
      "text/html": [
       "<div>\n",
       "<style scoped>\n",
       "    .dataframe tbody tr th:only-of-type {\n",
       "        vertical-align: middle;\n",
       "    }\n",
       "\n",
       "    .dataframe tbody tr th {\n",
       "        vertical-align: top;\n",
       "    }\n",
       "\n",
       "    .dataframe thead th {\n",
       "        text-align: right;\n",
       "    }\n",
       "</style>\n",
       "<table border=\"1\" class=\"dataframe\">\n",
       "  <thead>\n",
       "    <tr style=\"text-align: right;\">\n",
       "      <th></th>\n",
       "      <th>Lambda</th>\n",
       "      <th>Accuracy</th>\n",
       "      <th>Meaning</th>\n",
       "      <th>Mean of Theta</th>\n",
       "      <th>Max of Theta</th>\n",
       "    </tr>\n",
       "  </thead>\n",
       "  <tbody>\n",
       "    <tr>\n",
       "      <th>0</th>\n",
       "      <td>1</td>\n",
       "      <td>83.05084745762711</td>\n",
       "      <td>Desired</td>\n",
       "      <td>-0.3324143715569239</td>\n",
       "      <td>1.1232514267929568</td>\n",
       "    </tr>\n",
       "    <tr>\n",
       "      <th>1</th>\n",
       "      <td>0</td>\n",
       "      <td>81.35593220338984</td>\n",
       "      <td>No regularization (Overfitting)</td>\n",
       "      <td>-0.015543186291137713</td>\n",
       "      <td>2.0236760156404943</td>\n",
       "    </tr>\n",
       "    <tr>\n",
       "      <th>2</th>\n",
       "      <td>100</td>\n",
       "      <td>60.16949152542372</td>\n",
       "      <td>Too much regularization (Underfitting)</td>\n",
       "      <td>-0.015543186291137713</td>\n",
       "      <td>0.00641955797494988</td>\n",
       "    </tr>\n",
       "  </tbody>\n",
       "</table>\n",
       "</div>"
      ],
      "text/plain": [
       "  Lambda           Accuracy                                 Meaning  \\\n",
       "0      1  83.05084745762711                                 Desired   \n",
       "1      0  81.35593220338984         No regularization (Overfitting)   \n",
       "2    100  60.16949152542372  Too much regularization (Underfitting)   \n",
       "\n",
       "           Mean of Theta         Max of Theta  \n",
       "0    -0.3324143715569239   1.1232514267929568  \n",
       "1  -0.015543186291137713   2.0236760156404943  \n",
       "2  -0.015543186291137713  0.00641955797494988  "
      ]
     },
     "execution_count": 66,
     "metadata": {},
     "output_type": "execute_result"
    }
   ],
   "source": [
    "df"
   ]
  },
  {
   "cell_type": "markdown",
   "metadata": {},
   "source": [
    "# The End."
   ]
  }
 ],
 "metadata": {
  "kernelspec": {
   "display_name": "Python 3",
   "language": "python",
   "name": "python3"
  },
  "language_info": {
   "codemirror_mode": {
    "name": "ipython",
    "version": 3
   },
   "file_extension": ".py",
   "mimetype": "text/x-python",
   "name": "python",
   "nbconvert_exporter": "python",
   "pygments_lexer": "ipython3",
   "version": "3.6.5"
  }
 },
 "nbformat": 4,
 "nbformat_minor": 2
}
